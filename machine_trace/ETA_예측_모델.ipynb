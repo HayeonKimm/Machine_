{
  "nbformat": 4,
  "nbformat_minor": 0,
  "metadata": {
    "celltoolbar": "Raw Cell Format",
    "kernelspec": {
      "display_name": "Python 3",
      "language": "python",
      "name": "python3"
    },
    "language_info": {
      "codemirror_mode": {
        "name": "ipython",
        "version": 3
      },
      "file_extension": ".py",
      "mimetype": "text/x-python",
      "name": "python",
      "nbconvert_exporter": "python",
      "pygments_lexer": "ipython3",
      "version": "3.6.8"
    },
    "colab": {
      "name": "ETA 예측 모델.ipynb",
      "provenance": [],
      "collapsed_sections": [],
      "include_colab_link": true
    }
  },
  "cells": [
    {
      "cell_type": "markdown",
      "metadata": {
        "id": "view-in-github",
        "colab_type": "text"
      },
      "source": [
        "<a href=\"https://colab.research.google.com/github/HayeonKimm/machine-Learning/blob/master/machine_trace/ETA_%EC%98%88%EC%B8%A1_%EB%AA%A8%EB%8D%B8.ipynb\" target=\"_parent\"><img src=\"https://colab.research.google.com/assets/colab-badge.svg\" alt=\"Open In Colab\"/></a>"
      ]
    },
    {
      "cell_type": "markdown",
      "metadata": {
        "id": "Fo0i64ct8Hma"
      },
      "source": [
        "### Assignment 1. Make the best model for TADA ETA data\n",
        "Chapter 2에서 배운 tree algorithm들과 Chapter 3에서 배운 unsupervised learning을 통한 전처리를 응용해서 가장 좋은 성능을 내는 TADA ETA 예측모델을 만들어봅시다.\n",
        "\n",
        "1. 트레이닝셋과 테스트셋의 split은 아래와 같이 고정하도록 하겠습니다. 실습 코드에서는 아래의 random_state=0이 없었어서 데이터셋 생성 시 마다 순서가 달라졌는데, 이번엔 모두가 같은 data split을 가지고 동등하게 평가를 진행하도록 하겠습니다. \n",
        "```\n",
        "tada_eta = tada_eta.sample(frac=1, random_state=0).reset_index(drop=True)\n",
        "train = tada_eta[:12000]\n",
        "test = tada_eta[12000:]\n",
        "```\n",
        "2. 데이터셋에 normalization이나 PCA와 같은 전처리를 하고 그 후에 아래의 **Tips**에 있는 것과 같이 grid search와 category feature를 활용할 수 있는 방법을 적용해보세요. decision tree의 특성상, 그리고 저희의 input feature가 많지 않기 때문에, 전처리가 성능에 별로 도움이 안 될 수도 있으니 당황하지 않으셔도 됩니다!\n",
        "3. 이미 구현된 코드 사용은 sklearn 패키지 안에 있는 tree, ensemble 모델들과 unsupervised learning 알고리즘들로 제한하겠습니다. 다만 직접 구현하신다면 모델 종류에 제한을 두지 않겠습니다. \n",
        "4. input feature의 종류는 실습 코드에서는 4개(*api_eta,\tmonth, hour, distance*)만 사용했으나, 이번 과제에서는 원 데이터셋에서 자유롭게 변형하여 사용하셔도 됩니다.\n",
        "5. **[채점 기준]** test set에 대한 MSE(소숫점 둘째 자리까지)를 기준으로 점수를 매기도록 하겠습니다. test set은 절대 학습에 이용하시면 안됩니다!! 원래 generalization이 되는지 평가 하기 위해서는 test set이 주어지지 않는 것이 맞는데, 이 과제에서 주어지는 test set은 model selection을 위한 **validation set**이라고 생각하시고 과제를 진행해주세요. 그리고 randomness가 들어간 모델의 경우 평가를 위해서 random_state를 고정해주세요.\n",
        " *   목표 MSE 8 이하 달성: 10점   \n",
        " *   MSE 8.05 이하 달성: 9점\n",
        " *   MSE 8.15 이하 달성: 8점\n",
        " *   Chapter 3까지의 내용도 활용하여 MSE 8.25 이하 달성: 7점\n",
        " *   Chapter 2까지의 내용만 활용하여 MSE 8.25 이하 달성: 6점\n",
        " *   제출하였으나 코드 실행 안됨: 5점\n",
        "\n",
        "6. **[Tips]** \n",
        "  1. 모델의 hyperparamter(*max_depth, min_samples_leaf* 등)를 찾을 때 아래 예시와 같이 sklearn의 GridSearchCV를 이용하면 주어진 모든 조합의 hyperparameter들에 대해서 train, validation을 진행해서 최적의 hyperparameter를 찾을 수 있습니다. \n",
        "     * 아래 코드에서와 같이 cv=3이라고 하면 3-fold cross validation을 \\할 수 있습니다.\n",
        "```\n",
        "from sklearn import ensemble\n",
        "from sklearn.metrics import mean_squared_error\n",
        "from sklearn.model_selection import GridSearchCV\n",
        "# Hyperparameter 조합 정의\n",
        "param_grid = {'n_estimators': [100, 200, 300],\n",
        "          'max_depth': [2, 3, 4, 5],\n",
        "           'min_samples_leaf': [1, 20, 100],\n",
        "          'learning_rate': [0.01, 0.02, 0.05],\n",
        "          'loss': ['ls']} \n",
        "# grid search 모델 정의, 학습 및 model selection\n",
        "grid_search = GridSearchCV(estimator=ensemble.GradientBoostingRegressor(), \n",
        "                           param_grid=param_grid, \n",
        "                           cv=3, n_jobs=-1, scoring='neg_mean_squared_error', verbose=2)\n",
        "grid_search.fit(x_train, y_train)\n",
        "print(grid_search.best_params_)\n",
        "reg = ensemble.GradientBoostingRegressor(**grid_search.best_params_)\n",
        "```\n",
        "      * 우리는 validation set이 정해져있으므로 아래와 같이 PredefinedSplit을 통해 바로 validation set을 정해주고 이를 cv에 넘겨주면, validation set에 대해서 가장 성능이 좋은 hyperparameter를 찾을 수 있습니다. 이 방법을 추천드립니다.\n",
        "      ```\n",
        "from sklearn.model_selection import GridSearchCV\n",
        "from sklearn.model_selection import PredefinedSplit    \n",
        "# train set과 test set의 input과 output를 각각 이어 붙여서 X,y를 정의 \n",
        "X = np.concatenate((x_train,x_test), axis=0)\n",
        "y = np.concatenate((y_train,y_test), axis=0)\n",
        "# 전체 데이터 X에서 training data에 해당하는 index는 -1, test data에 해당하는 index는 0이 되도록, \n",
        "# 여기서는 [-1, -1, ... , -1, 0, 0, ... , 0] 같은 형태의 1차원 배열 test fold와 predefined split을 정의\n",
        "pds = PredefinedSplit(test_fold=[-1]*len(x_train)+[0]*len(x_test))\n",
        "# grid search 모델 정의, 학습 및 model selection\n",
        "grid_search = GridSearchCV(estimator=ensemble.GradientBoostingRegressor(), \n",
        "                           param_grid=param_grid, \n",
        "                           cv=pds, n_jobs=-1, scoring='neg_mean_squared_error', verbose=2)\n",
        "grid_search.fit(X, y)\n",
        "print(grid_search.best_params_)\n",
        "      ```\n",
        "  2.   **sklearn.ensemble.HistGradientBoostingRegressor**은 gradient boosting 모델의 또 다른 구현인데, 이 모델은 input feature로 category feature도 사용가능합니다. 그러기 위해서는 우선 아래 예시와 같이 category feature를 ordinal encoding을 통해서 0부터 (category갯수-1)까지의 숫자 중 하나로 변환해줘야 합니다. ordinal encoding을 한 후, HistGradientBoostingRegressor을 정의할 때 input parameter인 categorical_feature를 통해 몇 번째 feature가 categorical feature인지 알려줘야 합니다. 예를 들어 세 번째(index는 2) feature가 categorical feature라면 categorical_features=[2]가 됩니다. categorical feature를 쓰지 않더라도 이 HistGradientBoostingRegressor를 쓰면 데이터의 갯수가 많을때 연산 속도가 훨씬 빠르니 GradientBoostingRegressor 대신 사용을 추천드립니다.\n",
        "```\n",
        "tada_eta = pd.read_excel('/content/drive/MyDrive/Colab Notebooks/data/tada_eta.xlsx')\n",
        "# Ordianl Encoding\n",
        "enc = sklearn.preprocessing.OrdinalEncoder(dtype=np.int32)\n",
        "ordinal = enc.fit_transform(np.asarray(tada_eta['pickup_gu']).reshape(-1,1))\n",
        "tada_eta['pickup_gu'] = ordinal[:,0]\n",
        "tada_eta['distance'] = ((tada_eta['pickup_lat']-tada_eta['driver_lat'])**2 + (tada_eta['pickup_lng']-tada_eta['driver_lng'])**2)*100000\n",
        "tada_eta = tada_eta.drop(['id', 'created_at_kst', 'driver_id', 'pickup_lng', 'pickup_lat', 'driver_lng','driver_lat'],1)\n",
        "```\n",
        "    * **[주의점]** category feature에 대해서는 normalization과 PCA 등의 차원축소를 하시면 안됩니다. 이 같은 전처리를 하시려면 category feature는 제외하고 전처리를 진행하시고, 그 후에 category feature를 다시 붙여주세요. \n",
        "    * HistGradientBoostingRegressor에서는 tree의 갯수를 정해주기 위해서 'n_estimators' 대신 'max_iter'라는 이름의 parameter를 사용합니다.\n",
        "\n",
        "7.  **[Optional]** 구, 시간대, 월과 같은 feature를 예측에 더욱 더 효과적으로 활용하기 위해서 [data.seoul.go.kr](https://data.seoul.go.kr/dataList/datasetList.do)에 있는 서울시 공공데이터셋을 활용해도 됩니다. 아래 Reference에 사용가능한 데이터의 예시들이 있습니다. 다만 예측에 별로 도움이 되지 않는 데이터도 있을 수 있으니 잘 살펴보시고 사용해주세요.\n",
        "\n",
        "\n",
        "---\n",
        "\n",
        "[Reference]\n",
        "*   https://scikit-learn.org/stable/modules/tree.html\n",
        "*   https://scikit-learn.org/stable/modules/ensemble.html\n",
        "*   https://scikit-learn.org/stable/unsupervised_learning.html\n",
        "*   https://scikit-learn.org/stable/modules/generated/sklearn.model_selection.GridSearchCV.html\n",
        "*   https://scikit-learn.org/stable/modules/generated/sklearn.ensemble.HistGradientBoostingRegressor.html\n",
        "*  [서울시 차량통행속도 (구별/월별) 통계](https://data.seoul.go.kr/dataList/10846/S/2/datasetView.do)\n",
        "*  [서울시 승용차통행속도 (시간대별) 통계](https://data.seoul.go.kr/dataList/265/S/2/datasetView.do)\n",
        "*  [서울시 자동차등록 (월별/구별) 통계](https://data.seoul.go.kr/dataList/255/S/2/datasetView.do)\n"
      ]
    },
    {
      "cell_type": "code",
      "metadata": {
        "id": "ZYMRyUBeLD02",
        "colab": {
          "base_uri": "https://localhost:8080/"
        },
        "outputId": "95511e72-0cd3-4230-ee5d-2de528f77e07"
      },
      "source": [
        "from google.colab import drive\n",
        "drive.mount('/content/drive')\n"
      ],
      "execution_count": null,
      "outputs": [
        {
          "output_type": "stream",
          "name": "stdout",
          "text": [
            "Mounted at /content/drive\n"
          ]
        }
      ]
    },
    {
      "cell_type": "code",
      "metadata": {
        "id": "KoZswxPe2qFw"
      },
      "source": [
        "import pandas as pd\n",
        "import numpy as np\n",
        "import matplotlib.pyplot as plt\n",
        "%matplotlib inline"
      ],
      "execution_count": null,
      "outputs": []
    },
    {
      "cell_type": "code",
      "metadata": {
        "colab": {
          "base_uri": "https://localhost:8080/"
        },
        "id": "cGly7e8mTu-K",
        "outputId": "70cc02ec-ff38-4fba-f59d-be30d8a2e932"
      },
      "source": [
        "# scikit-learn 최신 버전으로 업그레이드\n",
        "# !pip install -U scikit-learn\n",
        "import sklearn\n",
        "print(\"scikit-learn version: \", sklearn.__version__)"
      ],
      "execution_count": null,
      "outputs": [
        {
          "output_type": "stream",
          "name": "stdout",
          "text": [
            "scikit-learn version:  0.22.2.post1\n"
          ]
        }
      ]
    },
    {
      "cell_type": "markdown",
      "metadata": {
        "id": "y5Zlc0A0wimF"
      },
      "source": [
        "### Regression Tree with Tada ETA data"
      ]
    },
    {
      "cell_type": "markdown",
      "metadata": {
        "id": "X2N0yhHUyVAV"
      },
      "source": [
        "\n",
        "\n",
        "*   ATA: Actual Time of Arrival\n",
        "*   ETA: Expected Time of Arrival\n",
        "*   api_eta: 앱 API에서 예측된 ETA\n",
        "\n"
      ]
    },
    {
      "cell_type": "code",
      "metadata": {
        "id": "THzp4Jbj2_WJ",
        "colab": {
          "base_uri": "https://localhost:8080/",
          "height": 278
        },
        "outputId": "fa9f3903-6686-4ad4-a723-477510c1c9b1"
      },
      "source": [
        "tada_eta = pd.read_excel('/content/drive/MyDrive/Colab Notebooks/data/tada_eta.xlsx')\n",
        "print(tada_eta.columns)\n",
        "tada_eta.head()"
      ],
      "execution_count": null,
      "outputs": [
        {
          "output_type": "stream",
          "name": "stdout",
          "text": [
            "Index(['ATA', 'id', 'api_eta', 'created_at_kst', 'month', 'pickup_lng',\n",
            "       'pickup_lat', 'pickup_gu', 'driver_id', 'driver_lng', 'driver_lat',\n",
            "       'hour'],\n",
            "      dtype='object')\n"
          ]
        },
        {
          "output_type": "execute_result",
          "data": {
            "text/html": [
              "<div>\n",
              "<style scoped>\n",
              "    .dataframe tbody tr th:only-of-type {\n",
              "        vertical-align: middle;\n",
              "    }\n",
              "\n",
              "    .dataframe tbody tr th {\n",
              "        vertical-align: top;\n",
              "    }\n",
              "\n",
              "    .dataframe thead th {\n",
              "        text-align: right;\n",
              "    }\n",
              "</style>\n",
              "<table border=\"1\" class=\"dataframe\">\n",
              "  <thead>\n",
              "    <tr style=\"text-align: right;\">\n",
              "      <th></th>\n",
              "      <th>ATA</th>\n",
              "      <th>id</th>\n",
              "      <th>api_eta</th>\n",
              "      <th>created_at_kst</th>\n",
              "      <th>month</th>\n",
              "      <th>pickup_lng</th>\n",
              "      <th>pickup_lat</th>\n",
              "      <th>pickup_gu</th>\n",
              "      <th>driver_id</th>\n",
              "      <th>driver_lng</th>\n",
              "      <th>driver_lat</th>\n",
              "      <th>hour</th>\n",
              "    </tr>\n",
              "  </thead>\n",
              "  <tbody>\n",
              "    <tr>\n",
              "      <th>0</th>\n",
              "      <td>10.60</td>\n",
              "      <td>R4L9FL6NVEL4D0</td>\n",
              "      <td>5.65</td>\n",
              "      <td>2019-12-01T00:55:09</td>\n",
              "      <td>12</td>\n",
              "      <td>127.091399</td>\n",
              "      <td>37.624545</td>\n",
              "      <td>노원구</td>\n",
              "      <td>DST52944</td>\n",
              "      <td>127.069978</td>\n",
              "      <td>37.616472</td>\n",
              "      <td>0</td>\n",
              "    </tr>\n",
              "    <tr>\n",
              "      <th>1</th>\n",
              "      <td>9.20</td>\n",
              "      <td>R3A7JBY7CS6TPD</td>\n",
              "      <td>8.60</td>\n",
              "      <td>2019-12-01T00:09:39</td>\n",
              "      <td>12</td>\n",
              "      <td>127.023351</td>\n",
              "      <td>37.625564</td>\n",
              "      <td>강북구</td>\n",
              "      <td>DPC72995</td>\n",
              "      <td>127.026479</td>\n",
              "      <td>37.604711</td>\n",
              "      <td>0</td>\n",
              "    </tr>\n",
              "    <tr>\n",
              "      <th>2</th>\n",
              "      <td>10.85</td>\n",
              "      <td>R2BIUY1TDK14XE</td>\n",
              "      <td>10.53</td>\n",
              "      <td>2019-12-15T00:18:42</td>\n",
              "      <td>12</td>\n",
              "      <td>126.881154</td>\n",
              "      <td>37.481641</td>\n",
              "      <td>금천구</td>\n",
              "      <td>DPP94923</td>\n",
              "      <td>126.906225</td>\n",
              "      <td>37.452167</td>\n",
              "      <td>0</td>\n",
              "    </tr>\n",
              "    <tr>\n",
              "      <th>3</th>\n",
              "      <td>5.52</td>\n",
              "      <td>R31PU5GNHSGU6C</td>\n",
              "      <td>1.92</td>\n",
              "      <td>2019-07-31T00:24:11</td>\n",
              "      <td>7</td>\n",
              "      <td>126.988375</td>\n",
              "      <td>37.567897</td>\n",
              "      <td>중구</td>\n",
              "      <td>DCT73585</td>\n",
              "      <td>126.991170</td>\n",
              "      <td>37.566416</td>\n",
              "      <td>0</td>\n",
              "    </tr>\n",
              "    <tr>\n",
              "      <th>4</th>\n",
              "      <td>8.60</td>\n",
              "      <td>R41WR6N1VT42DJ</td>\n",
              "      <td>7.10</td>\n",
              "      <td>2019-07-05T00:40:34</td>\n",
              "      <td>7</td>\n",
              "      <td>126.988684</td>\n",
              "      <td>37.566716</td>\n",
              "      <td>중구</td>\n",
              "      <td>DPJ86237</td>\n",
              "      <td>127.006860</td>\n",
              "      <td>37.571164</td>\n",
              "      <td>0</td>\n",
              "    </tr>\n",
              "  </tbody>\n",
              "</table>\n",
              "</div>"
            ],
            "text/plain": [
              "     ATA              id  api_eta  ...  driver_lng  driver_lat  hour\n",
              "0  10.60  R4L9FL6NVEL4D0     5.65  ...  127.069978   37.616472     0\n",
              "1   9.20  R3A7JBY7CS6TPD     8.60  ...  127.026479   37.604711     0\n",
              "2  10.85  R2BIUY1TDK14XE    10.53  ...  126.906225   37.452167     0\n",
              "3   5.52  R31PU5GNHSGU6C     1.92  ...  126.991170   37.566416     0\n",
              "4   8.60  R41WR6N1VT42DJ     7.10  ...  127.006860   37.571164     0\n",
              "\n",
              "[5 rows x 12 columns]"
            ]
          },
          "metadata": {},
          "execution_count": 18
        }
      ]
    },
    {
      "cell_type": "code",
      "metadata": {
        "id": "wRJxzcksZMar",
        "colab": {
          "base_uri": "https://localhost:8080/",
          "height": 205
        },
        "outputId": "e926118f-daba-4e83-b273-ca5dff390f5c"
      },
      "source": [
        "tada_eta['distance'] = ((tada_eta['pickup_lat']-tada_eta['driver_lat'])**2 + (tada_eta['pickup_lng']-tada_eta['driver_lng'])**2)*100000\n",
        "tada_eta = tada_eta.drop(['id', 'created_at_kst', 'driver_id', 'pickup_lng', 'pickup_lat', 'driver_lng','driver_lat','pickup_gu'],1)\n",
        "tada_eta.head()\n",
        "\n",
        "# sklearn의 tree는 범주 데이터는 다루지 못함. 이 경우에 one-hot encoding은 비효율적. 구 데이터도 활용하고 싶다면 h2o 참고"
      ],
      "execution_count": null,
      "outputs": [
        {
          "output_type": "execute_result",
          "data": {
            "text/html": [
              "<div>\n",
              "<style scoped>\n",
              "    .dataframe tbody tr th:only-of-type {\n",
              "        vertical-align: middle;\n",
              "    }\n",
              "\n",
              "    .dataframe tbody tr th {\n",
              "        vertical-align: top;\n",
              "    }\n",
              "\n",
              "    .dataframe thead th {\n",
              "        text-align: right;\n",
              "    }\n",
              "</style>\n",
              "<table border=\"1\" class=\"dataframe\">\n",
              "  <thead>\n",
              "    <tr style=\"text-align: right;\">\n",
              "      <th></th>\n",
              "      <th>ATA</th>\n",
              "      <th>api_eta</th>\n",
              "      <th>month</th>\n",
              "      <th>hour</th>\n",
              "      <th>distance</th>\n",
              "    </tr>\n",
              "  </thead>\n",
              "  <tbody>\n",
              "    <tr>\n",
              "      <th>0</th>\n",
              "      <td>10.60</td>\n",
              "      <td>5.65</td>\n",
              "      <td>12</td>\n",
              "      <td>0</td>\n",
              "      <td>52.400202</td>\n",
              "    </tr>\n",
              "    <tr>\n",
              "      <th>1</th>\n",
              "      <td>9.20</td>\n",
              "      <td>8.60</td>\n",
              "      <td>12</td>\n",
              "      <td>0</td>\n",
              "      <td>44.465889</td>\n",
              "    </tr>\n",
              "    <tr>\n",
              "      <th>2</th>\n",
              "      <td>10.85</td>\n",
              "      <td>10.53</td>\n",
              "      <td>12</td>\n",
              "      <td>0</td>\n",
              "      <td>149.731535</td>\n",
              "    </tr>\n",
              "    <tr>\n",
              "      <th>3</th>\n",
              "      <td>5.52</td>\n",
              "      <td>1.92</td>\n",
              "      <td>7</td>\n",
              "      <td>0</td>\n",
              "      <td>1.000535</td>\n",
              "    </tr>\n",
              "    <tr>\n",
              "      <th>4</th>\n",
              "      <td>8.60</td>\n",
              "      <td>7.10</td>\n",
              "      <td>7</td>\n",
              "      <td>0</td>\n",
              "      <td>35.014797</td>\n",
              "    </tr>\n",
              "  </tbody>\n",
              "</table>\n",
              "</div>"
            ],
            "text/plain": [
              "     ATA  api_eta  month  hour    distance\n",
              "0  10.60     5.65     12     0   52.400202\n",
              "1   9.20     8.60     12     0   44.465889\n",
              "2  10.85    10.53     12     0  149.731535\n",
              "3   5.52     1.92      7     0    1.000535\n",
              "4   8.60     7.10      7     0   35.014797"
            ]
          },
          "metadata": {},
          "execution_count": 19
        }
      ]
    },
    {
      "cell_type": "markdown",
      "metadata": {
        "id": "cA7WjdP9zP-m"
      },
      "source": [
        "## 샘플링"
      ]
    },
    {
      "cell_type": "code",
      "metadata": {
        "id": "uEwB3AeKyD77",
        "colab": {
          "base_uri": "https://localhost:8080/",
          "height": 205
        },
        "outputId": "32ef1153-c754-4cf5-a3f3-cd01d5c2b54f"
      },
      "source": [
        "tada_eta = tada_eta.sample(frac=1, random_state=0).reset_index(drop=True)\n",
        "tada_eta.head()"
      ],
      "execution_count": null,
      "outputs": [
        {
          "output_type": "execute_result",
          "data": {
            "text/html": [
              "<div>\n",
              "<style scoped>\n",
              "    .dataframe tbody tr th:only-of-type {\n",
              "        vertical-align: middle;\n",
              "    }\n",
              "\n",
              "    .dataframe tbody tr th {\n",
              "        vertical-align: top;\n",
              "    }\n",
              "\n",
              "    .dataframe thead th {\n",
              "        text-align: right;\n",
              "    }\n",
              "</style>\n",
              "<table border=\"1\" class=\"dataframe\">\n",
              "  <thead>\n",
              "    <tr style=\"text-align: right;\">\n",
              "      <th></th>\n",
              "      <th>ATA</th>\n",
              "      <th>api_eta</th>\n",
              "      <th>month</th>\n",
              "      <th>hour</th>\n",
              "      <th>distance</th>\n",
              "    </tr>\n",
              "  </thead>\n",
              "  <tbody>\n",
              "    <tr>\n",
              "      <th>0</th>\n",
              "      <td>6.13</td>\n",
              "      <td>8.32</td>\n",
              "      <td>12</td>\n",
              "      <td>22</td>\n",
              "      <td>44.521977</td>\n",
              "    </tr>\n",
              "    <tr>\n",
              "      <th>1</th>\n",
              "      <td>5.37</td>\n",
              "      <td>3.05</td>\n",
              "      <td>12</td>\n",
              "      <td>11</td>\n",
              "      <td>3.989066</td>\n",
              "    </tr>\n",
              "    <tr>\n",
              "      <th>2</th>\n",
              "      <td>6.27</td>\n",
              "      <td>5.00</td>\n",
              "      <td>7</td>\n",
              "      <td>19</td>\n",
              "      <td>4.814699</td>\n",
              "    </tr>\n",
              "    <tr>\n",
              "      <th>3</th>\n",
              "      <td>10.52</td>\n",
              "      <td>8.47</td>\n",
              "      <td>12</td>\n",
              "      <td>21</td>\n",
              "      <td>77.341173</td>\n",
              "    </tr>\n",
              "    <tr>\n",
              "      <th>4</th>\n",
              "      <td>12.45</td>\n",
              "      <td>6.65</td>\n",
              "      <td>7</td>\n",
              "      <td>12</td>\n",
              "      <td>14.888851</td>\n",
              "    </tr>\n",
              "  </tbody>\n",
              "</table>\n",
              "</div>"
            ],
            "text/plain": [
              "     ATA  api_eta  month  hour   distance\n",
              "0   6.13     8.32     12    22  44.521977\n",
              "1   5.37     3.05     12    11   3.989066\n",
              "2   6.27     5.00      7    19   4.814699\n",
              "3  10.52     8.47     12    21  77.341173\n",
              "4  12.45     6.65      7    12  14.888851"
            ]
          },
          "metadata": {},
          "execution_count": 6
        }
      ]
    },
    {
      "cell_type": "code",
      "metadata": {
        "id": "JSvO1kHyxYBB",
        "colab": {
          "base_uri": "https://localhost:8080/"
        },
        "outputId": "8097bb5a-ad6d-4032-bff7-c463ee6f4362"
      },
      "source": [
        "tada_eta.shape"
      ],
      "execution_count": null,
      "outputs": [
        {
          "output_type": "execute_result",
          "data": {
            "text/plain": [
              "(13916, 5)"
            ]
          },
          "metadata": {},
          "execution_count": 7
        }
      ]
    },
    {
      "cell_type": "code",
      "metadata": {
        "id": "0MM11kIzxuQN"
      },
      "source": [
        "train = tada_eta[:12000]\n",
        "test = tada_eta[12000:]"
      ],
      "execution_count": null,
      "outputs": []
    },
    {
      "cell_type": "code",
      "metadata": {
        "id": "IIGs4dK9zXIQ"
      },
      "source": [
        "x_train = np.asarray(train.drop('ATA',1))\n",
        "y_train = np.asarray(train['ATA'])\n",
        "x_test = np.asarray(test.drop('ATA',1))\n",
        "y_test = np.asarray(test['ATA'])\n",
        "eta_features = [x for i,x in enumerate(tada_eta.columns) if i!=0]"
      ],
      "execution_count": null,
      "outputs": []
    },
    {
      "cell_type": "markdown",
      "metadata": {
        "id": "bfkarT5X6pej"
      },
      "source": [
        "# PCA"
      ]
    },
    {
      "cell_type": "code",
      "metadata": {
        "colab": {
          "base_uri": "https://localhost:8080/"
        },
        "id": "71_FtGfqVCZV",
        "outputId": "34dfc295-3bad-4f86-a8f2-1e276491f66e"
      },
      "source": [
        "# Principal Components Analysis (PCA)\n",
        "# Using PCA to find the first two principal components of the breast cancer dataset\n",
        "from sklearn.preprocessing import StandardScaler\n",
        "from sklearn.decomposition import PCA\n",
        "from sklearn.datasets import load_breast_cancer\n",
        "\n",
        "# Before applying PCA, each feature should be centered (zero mean) and with unit variance\n",
        "# PCA를 하기전에는 정규화를 해야한다. 그렇지 않으면 성능이 좋지 않을 수 있다..!\n",
        "\n",
        "X_normalized = StandardScaler().fit(train).transform(train)  \n",
        "pca = PCA(n_components = 2).fit(X_normalized) # n_componets =2 는 2차원으로 변환한다는 걸 뜻한다. \n",
        "X_pca = pca.transform(X_normalized) # transform은 해줘야 한다.\n",
        "\n",
        "print(train.shape, X_pca.shape)"
      ],
      "execution_count": null,
      "outputs": [
        {
          "output_type": "stream",
          "name": "stdout",
          "text": [
            "(12000, 5) (12000, 2)\n"
          ]
        }
      ]
    },
    {
      "cell_type": "code",
      "metadata": {
        "colab": {
          "base_uri": "https://localhost:8080/"
        },
        "id": "6YN-hpMmzG24",
        "outputId": "0e768e6c-5fdb-4ee2-f00b-8b6363585753"
      },
      "source": [
        "type(X_pca)"
      ],
      "execution_count": null,
      "outputs": [
        {
          "output_type": "execute_result",
          "data": {
            "text/plain": [
              "numpy.ndarray"
            ]
          },
          "metadata": {},
          "execution_count": 24
        }
      ]
    },
    {
      "cell_type": "code",
      "metadata": {
        "id": "X4qxqNuSifK-",
        "colab": {
          "base_uri": "https://localhost:8080/"
        },
        "outputId": "70f54803-fff0-4fe3-fc35-adce04b22d94"
      },
      "source": [
        "eta_features"
      ],
      "execution_count": null,
      "outputs": [
        {
          "output_type": "execute_result",
          "data": {
            "text/plain": [
              "['api_eta', 'month', 'hour', 'distance']"
            ]
          },
          "metadata": {},
          "execution_count": 25
        }
      ]
    },
    {
      "cell_type": "code",
      "metadata": {
        "id": "cdY-cDvYQ8CL"
      },
      "source": [
        "params = {'n_estimators': 100, # 트리의 개수\n",
        "          'max_depth': 3,\n",
        "           'min_samples_leaf': 5,\n",
        "          'learning_rate': 0.05,\n",
        "          'loss': 'ls'} # 'squared_error'와 같음"
      ],
      "execution_count": null,
      "outputs": []
    },
    {
      "cell_type": "code",
      "metadata": {
        "id": "c3UNZ14cz82-"
      },
      "source": [
        "from sklearn.metrics import mean_squared_error\n",
        "from sklearn.metrics import mean_absolute_error # 절대값\n",
        "from sklearn import ensemble"
      ],
      "execution_count": null,
      "outputs": []
    },
    {
      "cell_type": "markdown",
      "metadata": {
        "id": "zEJ7EZ8y0knq"
      },
      "source": [
        "# 1 way\n",
        "\n",
        "## 수작업 버전"
      ]
    },
    {
      "cell_type": "code",
      "metadata": {
        "id": "rgUGux64Q8Fe",
        "colab": {
          "base_uri": "https://localhost:8080/"
        },
        "outputId": "97cfb6aa-81f1-4d85-b6ba-9118ccfca15a"
      },
      "source": [
        "reg = ensemble.GradientBoostingRegressor(**params)\n",
        "reg.fit(x_train, y_train)\n",
        "\n",
        "mse = mean_squared_error(y_test, reg.predict(x_test))\n",
        "print(\"The mean squared error (MSE) on test set: {:.4f}\".format(mse))\n",
        "print(\"The initial error of API ETA on test set: {:.4f}\".format(mean_squared_error(y_test, x_test[:,0]) ))\n",
        "\n",
        "mae = mean_absolute_error(y_test, reg.predict(x_test))\n",
        "print(\"The mean absolute error (MAE) on test set: {:.4f}\".format(mae))\n",
        "print(\"The initial error of API ETA on test set: {:.4f}\".format(mean_absolute_error(y_test, x_test[:,0]) ))"
      ],
      "execution_count": null,
      "outputs": [
        {
          "output_type": "stream",
          "name": "stdout",
          "text": [
            "The mean squared error (MSE) on test set: 6.8226\n",
            "The initial error of API ETA on test set: 8.8452\n",
            "The mean absolute error (MAE) on test set: 2.0223\n",
            "The initial error of API ETA on test set: 2.0851\n"
          ]
        }
      ]
    },
    {
      "cell_type": "markdown",
      "metadata": {
        "id": "ajX_IcJ6zzir"
      },
      "source": [
        "# 2 way"
      ]
    },
    {
      "cell_type": "code",
      "metadata": {
        "colab": {
          "base_uri": "https://localhost:8080/"
        },
        "id": "Y-NuKh8y1NwS",
        "outputId": "56418dd7-be46-4d86-afa3-30fa5e438260"
      },
      "source": [
        "from sklearn import ensemble\n",
        "from sklearn.metrics import mean_squared_error\n",
        "from sklearn.model_selection import GridSearchCV\n",
        "# Hyperparameter 조합 정의\n",
        "param_grid = {'n_estimators': [100, 200, 300],\n",
        "  'max_depth': [2, 3, 4, 5],\n",
        "   'min_samples_leaf': [1, 20, 100],\n",
        "  'learning_rate': [0.01, 0.02, 0.05],\n",
        "  'loss': ['ls']} \n",
        "# grid search 모델 정의, 학습 및 model selection\n",
        "grid_search = GridSearchCV(estimator=ensemble.GradientBoostingRegressor(), \n",
        "                   param_grid=param_grid, \n",
        "                   cv=3, n_jobs=-1, scoring='neg_mean_squared_error', verbose=2)\n",
        "grid_search.fit(x_train, y_train)\n",
        "print(grid_search.best_params_)\n",
        "reg = ensemble.GradientBoostingRegressor(**grid_search.best_params_)"
      ],
      "execution_count": null,
      "outputs": [
        {
          "output_type": "stream",
          "name": "stdout",
          "text": [
            "Fitting 3 folds for each of 108 candidates, totalling 324 fits\n"
          ]
        },
        {
          "output_type": "stream",
          "name": "stderr",
          "text": [
            "[Parallel(n_jobs=-1)]: Using backend LokyBackend with 2 concurrent workers.\n",
            "[Parallel(n_jobs=-1)]: Done  37 tasks      | elapsed:   29.6s\n",
            "[Parallel(n_jobs=-1)]: Done 158 tasks      | elapsed:  2.7min\n",
            "[Parallel(n_jobs=-1)]: Done 324 out of 324 | elapsed:  6.1min finished\n"
          ]
        },
        {
          "output_type": "stream",
          "name": "stdout",
          "text": [
            "{'learning_rate': 0.02, 'loss': 'ls', 'max_depth': 2, 'min_samples_leaf': 20, 'n_estimators': 300}\n"
          ]
        }
      ]
    },
    {
      "cell_type": "markdown",
      "metadata": {
        "id": "VH69eR7z3Or2"
      },
      "source": [
        "# way 3 그리드서치CV 적용..\n",
        "## 왜 way 1보다 더 높지요"
      ]
    },
    {
      "cell_type": "code",
      "metadata": {
        "colab": {
          "base_uri": "https://localhost:8080/"
        },
        "id": "P9uvJC8a20Pa",
        "outputId": "c06b4896-0cdf-4a7d-93d0-bcae5c4b855f"
      },
      "source": [
        "params = {'n_estimators': 300, # 트리의 개수\n",
        "          'max_depth': 2,\n",
        "           'min_samples_leaf': 20,\n",
        "          'learning_rate': 0.02,\n",
        "          'loss': 'ls'} # 'squared_error'와 같음\n",
        "\n",
        "\n",
        "reg = ensemble.GradientBoostingRegressor(**params)\n",
        "reg.fit(x_train, y_train)\n",
        "\n",
        "mse = mean_squared_error(y_test, reg.predict(x_test))\n",
        "print(\"The mean squared error (MSE) on test set: {:.4f}\".format(mse))\n",
        "print(\"The initial error of API ETA on test set: {:.4f}\".format(mean_squared_error(y_test, x_test[:,0]) ))\n",
        "\n",
        "mae = mean_absolute_error(y_test, reg.predict(x_test))\n",
        "print(\"The mean absolute error (MAE) on test set: {:.4f}\".format(mae))\n",
        "print(\"The initial error of API ETA on test set: {:.4f}\".format(mean_absolute_error(y_test, x_test[:,0]) ))"
      ],
      "execution_count": null,
      "outputs": [
        {
          "output_type": "stream",
          "name": "stdout",
          "text": [
            "The mean squared error (MSE) on test set: 6.9134\n",
            "The initial error of API ETA on test set: 8.8452\n",
            "The mean absolute error (MAE) on test set: 2.0447\n",
            "The initial error of API ETA on test set: 2.0851\n"
          ]
        }
      ]
    },
    {
      "cell_type": "code",
      "metadata": {
        "colab": {
          "base_uri": "https://localhost:8080/"
        },
        "id": "-BI-PxInzzff",
        "outputId": "6ca2e358-bc46-41c5-890d-4156de0f63cb"
      },
      "source": [
        "from sklearn.model_selection import GridSearchCV\n",
        "from sklearn.model_selection import PredefinedSplit    \n",
        "\n",
        "\n",
        "# train set과 test set의 input과 output를 각각 이어 붙여서 X,y를 정의 \n",
        "X = np.concatenate((x_train,x_test), axis=0)\n",
        "y = np.concatenate((y_train,y_test), axis=0)\n",
        "\n",
        "# 전체 데이터 X에서 training data에 해당하는 index는 -1, test data에 해당하는 index는 0이 되도록, \n",
        "# 여기서는 [-1, -1, ... , -1, 0, 0, ... , 0] 같은 형태의 1차원 배열 test fold와 predefined split을 정의\n",
        "pds = PredefinedSplit(test_fold=[-1]*len(x_train)+[0]*len(x_test))\n",
        "# grid search 모델 정의, 학습 및 model selection\n",
        "grid_search = GridSearchCV(estimator=ensemble.GradientBoostingRegressor(), \n",
        "                   param_grid=param_grid, \n",
        "                   cv=pds, n_jobs=-1, scoring='neg_mean_squared_error', verbose=2)\n",
        "grid_search.fit(X, y)\n",
        "print(grid_search.best_params_)"
      ],
      "execution_count": null,
      "outputs": [
        {
          "output_type": "stream",
          "name": "stdout",
          "text": [
            "Fitting 1 folds for each of 108 candidates, totalling 108 fits\n"
          ]
        },
        {
          "output_type": "stream",
          "name": "stderr",
          "text": [
            "[Parallel(n_jobs=-1)]: Using backend LokyBackend with 2 concurrent workers.\n",
            "[Parallel(n_jobs=-1)]: Done  37 tasks      | elapsed:  1.0min\n",
            "[Parallel(n_jobs=-1)]: Done 108 out of 108 | elapsed:  3.0min finished\n"
          ]
        },
        {
          "output_type": "stream",
          "name": "stdout",
          "text": [
            "{'learning_rate': 0.05, 'loss': 'ls', 'max_depth': 3, 'min_samples_leaf': 1, 'n_estimators': 200}\n"
          ]
        }
      ]
    },
    {
      "cell_type": "code",
      "metadata": {
        "colab": {
          "base_uri": "https://localhost:8080/"
        },
        "id": "n4IjGxxkzzcn",
        "outputId": "3ae01604-85bb-4e8b-87d5-42792cce92f9"
      },
      "source": [
        "params = {'n_estimators': 200, # 트리의 개수\n",
        "          'max_depth': 3,\n",
        "           'min_samples_leaf': 1,\n",
        "          'learning_rate': 0.05,\n",
        "          'loss': 'ls'} # 'squared_error'와 같음\n",
        "\n",
        "\n",
        "reg = ensemble.GradientBoostingRegressor(**params)\n",
        "reg.fit(x_train, y_train)\n",
        "\n",
        "mse = mean_squared_error(y_test, reg.predict(x_test))\n",
        "print(\"The mean squared error (MSE) on test set: {:.4f}\".format(mse))\n",
        "print(\"The initial error of API ETA on test set: {:.4f}\".format(mean_squared_error(y_test, x_test[:,0]) ))\n",
        "\n",
        "mae = mean_absolute_error(y_test, reg.predict(x_test))\n",
        "print(\"The mean absolute error (MAE) on test set: {:.4f}\".format(mae))\n",
        "print(\"The initial error of API ETA on test set: {:.4f}\".format(mean_absolute_error(y_test, x_test[:,0]) ))"
      ],
      "execution_count": null,
      "outputs": [
        {
          "output_type": "stream",
          "name": "stdout",
          "text": [
            "The mean squared error (MSE) on test set: 6.6923\n",
            "The initial error of API ETA on test set: 8.8452\n",
            "The mean absolute error (MAE) on test set: 1.9949\n",
            "The initial error of API ETA on test set: 2.0851\n"
          ]
        }
      ]
    },
    {
      "cell_type": "code",
      "metadata": {
        "colab": {
          "base_uri": "https://localhost:8080/",
          "height": 281
        },
        "id": "bQrcYTwozzYl",
        "outputId": "c64d0dfc-0c16-4e16-bbe9-f1fc16efe7b9"
      },
      "source": [
        "feature_importance = reg.feature_importances_\n",
        "sorted_idx = np.argsort(feature_importance)\n",
        "pos = np.arange(sorted_idx.shape[0]) + .5\n",
        "plt.figure()\n",
        "plt.barh(pos, feature_importance[sorted_idx], align='center')\n",
        "plt.yticks(pos, np.array(eta_features)[sorted_idx])\n",
        "plt.title('Feature Importance (MDI)')\n",
        "plt.show()"
      ],
      "execution_count": null,
      "outputs": [
        {
          "output_type": "display_data",
          "data": {
            "image/png": "[encoded data removed]",
            "text/plain": [
              "<Figure size 432x288 with 1 Axes>"
            ]
          },
          "metadata": {
            "needs_background": "light"
          }
        }
      ]
    },
    {
      "cell_type": "markdown",
      "metadata": {
        "id": "CMpud_lQ5bml"
      },
      "source": [
        "HistGradientBoostingRegressor를 쓰면 데이터의 갯수가 많을때 연산 속도가 훨씬 빠르다.\n",
        "\n",
        "이 모델은 input feature로 category feature도 사용가능합니다. 그러기 위해서는 우선 아래 예시와 같이 category feature를 ordinal encoding을 통해서 0부터 (category갯수-1)까지의 숫자 중 하나로 변환해줘야 합니다. "
      ]
    },
    {
      "cell_type": "markdown",
      "metadata": {
        "id": "gsd8djJi6REb"
      },
      "source": [
        "ordinal encoding을 한 후, HistGradientBoostingRegressor을 정의할 때 input parameter인 categorical_feature를 통해 몇 번째 feature가 categorical feature인지 알려줘야 합니다. 예를 들어 세 번째(index는 2) feature가 categorical feature라면 categorical_features=[2]가 됩니다.\n",
        "\n",
        "\n",
        "categorical feature를 쓰지 않더라도 이 HistGradientBoostingRegressor를 쓰면 데이터의 갯수가 많을때 연산 속도가 훨씬 빠르니 GradientBoostingRegressor 대신 사용을 추천드립니다."
      ]
    },
    {
      "cell_type": "markdown",
      "metadata": {
        "id": "VKLNCmweHWQS"
      },
      "source": [
        "# way 4 HistGradientBoostingRegressor"
      ]
    },
    {
      "cell_type": "code",
      "metadata": {
        "id": "74yKfGdA433m"
      },
      "source": [
        "tada_eta = pd.read_excel('/content/drive/MyDrive/Colab Notebooks/data/tada_eta.xlsx')\n",
        "# Ordianl Encoding\n",
        "enc = sklearn.preprocessing.OrdinalEncoder(dtype=np.int32)\n",
        "ordinal = enc.fit_transform(np.asarray(tada_eta['pickup_gu']).reshape(-1,1))\n",
        "tada_eta['pickup_gu'] = ordinal[:,0] # 0번째 인덱스 칼럼\n",
        "tada_eta['distance'] = ((tada_eta['pickup_lat']-tada_eta['driver_lat'])**2 + (tada_eta['pickup_lng']-tada_eta['driver_lng'])**2)*100000\n",
        "tada_eta = tada_eta.drop(['id', 'created_at_kst', 'driver_id', 'pickup_lng', 'pickup_lat', 'driver_lng','driver_lat'],1)"
      ],
      "execution_count": null,
      "outputs": []
    },
    {
      "cell_type": "code",
      "metadata": {
        "colab": {
          "base_uri": "https://localhost:8080/",
          "height": 205
        },
        "id": "Q4-W-Dqj8eDT",
        "outputId": "45ff5792-f4b1-44f1-bde4-adedfa5cb6fe"
      },
      "source": [
        "tada_eta.head()"
      ],
      "execution_count": null,
      "outputs": [
        {
          "output_type": "execute_result",
          "data": {
            "text/html": [
              "<div>\n",
              "<style scoped>\n",
              "    .dataframe tbody tr th:only-of-type {\n",
              "        vertical-align: middle;\n",
              "    }\n",
              "\n",
              "    .dataframe tbody tr th {\n",
              "        vertical-align: top;\n",
              "    }\n",
              "\n",
              "    .dataframe thead th {\n",
              "        text-align: right;\n",
              "    }\n",
              "</style>\n",
              "<table border=\"1\" class=\"dataframe\">\n",
              "  <thead>\n",
              "    <tr style=\"text-align: right;\">\n",
              "      <th></th>\n",
              "      <th>ATA</th>\n",
              "      <th>api_eta</th>\n",
              "      <th>month</th>\n",
              "      <th>pickup_gu</th>\n",
              "      <th>hour</th>\n",
              "      <th>distance</th>\n",
              "    </tr>\n",
              "  </thead>\n",
              "  <tbody>\n",
              "    <tr>\n",
              "      <th>0</th>\n",
              "      <td>10.60</td>\n",
              "      <td>5.65</td>\n",
              "      <td>12</td>\n",
              "      <td>8</td>\n",
              "      <td>0</td>\n",
              "      <td>52.400202</td>\n",
              "    </tr>\n",
              "    <tr>\n",
              "      <th>1</th>\n",
              "      <td>9.20</td>\n",
              "      <td>8.60</td>\n",
              "      <td>12</td>\n",
              "      <td>2</td>\n",
              "      <td>0</td>\n",
              "      <td>44.465889</td>\n",
              "    </tr>\n",
              "    <tr>\n",
              "      <th>2</th>\n",
              "      <td>10.85</td>\n",
              "      <td>10.53</td>\n",
              "      <td>12</td>\n",
              "      <td>7</td>\n",
              "      <td>0</td>\n",
              "      <td>149.731535</td>\n",
              "    </tr>\n",
              "    <tr>\n",
              "      <th>3</th>\n",
              "      <td>5.52</td>\n",
              "      <td>1.92</td>\n",
              "      <td>7</td>\n",
              "      <td>23</td>\n",
              "      <td>0</td>\n",
              "      <td>1.000535</td>\n",
              "    </tr>\n",
              "    <tr>\n",
              "      <th>4</th>\n",
              "      <td>8.60</td>\n",
              "      <td>7.10</td>\n",
              "      <td>7</td>\n",
              "      <td>23</td>\n",
              "      <td>0</td>\n",
              "      <td>35.014797</td>\n",
              "    </tr>\n",
              "  </tbody>\n",
              "</table>\n",
              "</div>"
            ],
            "text/plain": [
              "     ATA  api_eta  month  pickup_gu  hour    distance\n",
              "0  10.60     5.65     12          8     0   52.400202\n",
              "1   9.20     8.60     12          2     0   44.465889\n",
              "2  10.85    10.53     12          7     0  149.731535\n",
              "3   5.52     1.92      7         23     0    1.000535\n",
              "4   8.60     7.10      7         23     0   35.014797"
            ]
          },
          "metadata": {},
          "execution_count": 51
        }
      ]
    },
    {
      "cell_type": "code",
      "metadata": {
        "id": "RJCNxJdE8iRQ"
      },
      "source": [
        "pickup_gu_m=tada_eta['pickup_gu']\n",
        "tada_eta=tada_eta.drop('pickup_gu',1)"
      ],
      "execution_count": null,
      "outputs": []
    },
    {
      "cell_type": "code",
      "metadata": {
        "colab": {
          "base_uri": "https://localhost:8080/",
          "height": 81
        },
        "id": "3V4Wo3QU8p-K",
        "outputId": "9dd15123-91ad-4570-b16f-e489a8518d92"
      },
      "source": [
        "tada_eta.head(1)"
      ],
      "execution_count": null,
      "outputs": [
        {
          "output_type": "execute_result",
          "data": {
            "text/html": [
              "<div>\n",
              "<style scoped>\n",
              "    .dataframe tbody tr th:only-of-type {\n",
              "        vertical-align: middle;\n",
              "    }\n",
              "\n",
              "    .dataframe tbody tr th {\n",
              "        vertical-align: top;\n",
              "    }\n",
              "\n",
              "    .dataframe thead th {\n",
              "        text-align: right;\n",
              "    }\n",
              "</style>\n",
              "<table border=\"1\" class=\"dataframe\">\n",
              "  <thead>\n",
              "    <tr style=\"text-align: right;\">\n",
              "      <th></th>\n",
              "      <th>ATA</th>\n",
              "      <th>api_eta</th>\n",
              "      <th>month</th>\n",
              "      <th>hour</th>\n",
              "      <th>distance</th>\n",
              "    </tr>\n",
              "  </thead>\n",
              "  <tbody>\n",
              "    <tr>\n",
              "      <th>0</th>\n",
              "      <td>10.6</td>\n",
              "      <td>5.65</td>\n",
              "      <td>12</td>\n",
              "      <td>0</td>\n",
              "      <td>52.400202</td>\n",
              "    </tr>\n",
              "  </tbody>\n",
              "</table>\n",
              "</div>"
            ],
            "text/plain": [
              "    ATA  api_eta  month  hour   distance\n",
              "0  10.6     5.65     12     0  52.400202"
            ]
          },
          "metadata": {},
          "execution_count": 54
        }
      ]
    },
    {
      "cell_type": "code",
      "metadata": {
        "colab": {
          "base_uri": "https://localhost:8080/"
        },
        "id": "zXaYRZ0E8aJE",
        "outputId": "3896212c-3f67-45c0-83ac-299580872db9"
      },
      "source": [
        "# Principal Components Analysis (PCA)\n",
        "# Using PCA to find the first two principal components of the breast cancer dataset\n",
        "from sklearn.preprocessing import StandardScaler\n",
        "from sklearn.decomposition import PCA\n",
        "from sklearn.datasets import load_breast_cancer\n",
        "\n",
        "# Before applying PCA, each feature should be centered (zero mean) and with unit variance\n",
        "# PCA를 하기전에는 정규화를 해야한다. 그렇지 않으면 성능이 좋지 않을 수 있다..!\n",
        "\n",
        "X_normalized = StandardScaler().fit(train).transform(train)  \n",
        "pca = PCA(n_components = 2).fit(X_normalized) # n_componets =2 는 2차원으로 변환한다는 걸 뜻한다. \n",
        "X_pca = pca.transform(X_normalized) # transform은 해줘야 한다.\n",
        "\n",
        "print(train.shape, X_pca.shape)"
      ],
      "execution_count": null,
      "outputs": [
        {
          "output_type": "stream",
          "name": "stdout",
          "text": [
            "(12000, 5) (12000, 2)\n"
          ]
        }
      ]
    },
    {
      "cell_type": "code",
      "metadata": {
        "colab": {
          "base_uri": "https://localhost:8080/",
          "height": 422
        },
        "id": "9sbzxe6W81UH",
        "outputId": "49f3c0e0-3668-4ecc-a9dc-656f9cff082f"
      },
      "source": [
        "tada_eta['pickup_gu']=pickup_gu_m\n",
        "tada_eta"
      ],
      "execution_count": null,
      "outputs": [
        {
          "output_type": "execute_result",
          "data": {
            "text/html": [
              "<div>\n",
              "<style scoped>\n",
              "    .dataframe tbody tr th:only-of-type {\n",
              "        vertical-align: middle;\n",
              "    }\n",
              "\n",
              "    .dataframe tbody tr th {\n",
              "        vertical-align: top;\n",
              "    }\n",
              "\n",
              "    .dataframe thead th {\n",
              "        text-align: right;\n",
              "    }\n",
              "</style>\n",
              "<table border=\"1\" class=\"dataframe\">\n",
              "  <thead>\n",
              "    <tr style=\"text-align: right;\">\n",
              "      <th></th>\n",
              "      <th>ATA</th>\n",
              "      <th>api_eta</th>\n",
              "      <th>month</th>\n",
              "      <th>hour</th>\n",
              "      <th>distance</th>\n",
              "      <th>pickup_gu</th>\n",
              "    </tr>\n",
              "  </thead>\n",
              "  <tbody>\n",
              "    <tr>\n",
              "      <th>0</th>\n",
              "      <td>10.60</td>\n",
              "      <td>5.65</td>\n",
              "      <td>12</td>\n",
              "      <td>0</td>\n",
              "      <td>52.400202</td>\n",
              "      <td>8</td>\n",
              "    </tr>\n",
              "    <tr>\n",
              "      <th>1</th>\n",
              "      <td>9.20</td>\n",
              "      <td>8.60</td>\n",
              "      <td>12</td>\n",
              "      <td>0</td>\n",
              "      <td>44.465889</td>\n",
              "      <td>2</td>\n",
              "    </tr>\n",
              "    <tr>\n",
              "      <th>2</th>\n",
              "      <td>10.85</td>\n",
              "      <td>10.53</td>\n",
              "      <td>12</td>\n",
              "      <td>0</td>\n",
              "      <td>149.731535</td>\n",
              "      <td>7</td>\n",
              "    </tr>\n",
              "    <tr>\n",
              "      <th>3</th>\n",
              "      <td>5.52</td>\n",
              "      <td>1.92</td>\n",
              "      <td>7</td>\n",
              "      <td>0</td>\n",
              "      <td>1.000535</td>\n",
              "      <td>23</td>\n",
              "    </tr>\n",
              "    <tr>\n",
              "      <th>4</th>\n",
              "      <td>8.60</td>\n",
              "      <td>7.10</td>\n",
              "      <td>7</td>\n",
              "      <td>0</td>\n",
              "      <td>35.014797</td>\n",
              "      <td>23</td>\n",
              "    </tr>\n",
              "    <tr>\n",
              "      <th>...</th>\n",
              "      <td>...</td>\n",
              "      <td>...</td>\n",
              "      <td>...</td>\n",
              "      <td>...</td>\n",
              "      <td>...</td>\n",
              "      <td>...</td>\n",
              "    </tr>\n",
              "    <tr>\n",
              "      <th>13911</th>\n",
              "      <td>8.22</td>\n",
              "      <td>5.55</td>\n",
              "      <td>12</td>\n",
              "      <td>23</td>\n",
              "      <td>7.508001</td>\n",
              "      <td>19</td>\n",
              "    </tr>\n",
              "    <tr>\n",
              "      <th>13912</th>\n",
              "      <td>1.37</td>\n",
              "      <td>0.98</td>\n",
              "      <td>7</td>\n",
              "      <td>23</td>\n",
              "      <td>1.560660</td>\n",
              "      <td>19</td>\n",
              "    </tr>\n",
              "    <tr>\n",
              "      <th>13913</th>\n",
              "      <td>4.22</td>\n",
              "      <td>4.15</td>\n",
              "      <td>7</td>\n",
              "      <td>23</td>\n",
              "      <td>1.647304</td>\n",
              "      <td>19</td>\n",
              "    </tr>\n",
              "    <tr>\n",
              "      <th>13914</th>\n",
              "      <td>4.85</td>\n",
              "      <td>5.38</td>\n",
              "      <td>7</td>\n",
              "      <td>23</td>\n",
              "      <td>73.629324</td>\n",
              "      <td>19</td>\n",
              "    </tr>\n",
              "    <tr>\n",
              "      <th>13915</th>\n",
              "      <td>6.98</td>\n",
              "      <td>4.23</td>\n",
              "      <td>12</td>\n",
              "      <td>23</td>\n",
              "      <td>5.457234</td>\n",
              "      <td>19</td>\n",
              "    </tr>\n",
              "  </tbody>\n",
              "</table>\n",
              "<p>13916 rows × 6 columns</p>\n",
              "</div>"
            ],
            "text/plain": [
              "         ATA  api_eta  month  hour    distance  pickup_gu\n",
              "0      10.60     5.65     12     0   52.400202          8\n",
              "1       9.20     8.60     12     0   44.465889          2\n",
              "2      10.85    10.53     12     0  149.731535          7\n",
              "3       5.52     1.92      7     0    1.000535         23\n",
              "4       8.60     7.10      7     0   35.014797         23\n",
              "...      ...      ...    ...   ...         ...        ...\n",
              "13911   8.22     5.55     12    23    7.508001         19\n",
              "13912   1.37     0.98      7    23    1.560660         19\n",
              "13913   4.22     4.15      7    23    1.647304         19\n",
              "13914   4.85     5.38      7    23   73.629324         19\n",
              "13915   6.98     4.23     12    23    5.457234         19\n",
              "\n",
              "[13916 rows x 6 columns]"
            ]
          },
          "metadata": {},
          "execution_count": 56
        }
      ]
    },
    {
      "cell_type": "code",
      "metadata": {
        "colab": {
          "base_uri": "https://localhost:8080/"
        },
        "id": "CR4PGKOb-IkQ",
        "outputId": "ac687c5f-26f1-4ac8-c298-f5f0d4b65823"
      },
      "source": [
        "tada_eta.columns"
      ],
      "execution_count": null,
      "outputs": [
        {
          "output_type": "execute_result",
          "data": {
            "text/plain": [
              "Index(['ATA', 'api_eta', 'month', 'hour', 'distance', 'pickup_gu'], dtype='object')"
            ]
          },
          "metadata": {},
          "execution_count": 57
        }
      ]
    },
    {
      "cell_type": "markdown",
      "metadata": {
        "id": "44OlB_QnK4_f"
      },
      "source": [
        "## grid search"
      ]
    },
    {
      "cell_type": "code",
      "metadata": {
        "colab": {
          "base_uri": "https://localhost:8080/"
        },
        "id": "ES-oG0mL9URx",
        "outputId": "25502864-3019-464c-dbde-68f0fce00dc9"
      },
      "source": [
        "from sklearn import ensemble\n",
        "from sklearn.metrics import mean_squared_error\n",
        "from sklearn.model_selection import GridSearchCV\n",
        "# Hyperparameter 조합 정의\n",
        "param_grid = {'max_iter': [100, 200, 300],\n",
        "  'max_depth': [2, 3, 4, 5],\n",
        "   'min_samples_leaf': [1, 20, 100],\n",
        "  'learning_rate': [0.01, 0.02, 0.05]}\n",
        "# grid search 모델 정의, 학습 및 model selection\n",
        "grid_search = GridSearchCV(estimator=ensemble.HistGradientBoostingRegressor(), \n",
        "                   param_grid=param_grid, \n",
        "                   cv=3, n_jobs=-1, scoring='neg_mean_squared_error', verbose=2)\n",
        "grid_search.fit(x_train, y_train)\n",
        "print(grid_search.best_params_)\n",
        "reg = ensemble.HistGradientBoostingRegressor(**grid_search.best_params_)"
      ],
      "execution_count": null,
      "outputs": [
        {
          "output_type": "stream",
          "name": "stdout",
          "text": [
            "Fitting 3 folds for each of 108 candidates, totalling 324 fits\n"
          ]
        },
        {
          "output_type": "stream",
          "name": "stderr",
          "text": [
            "[Parallel(n_jobs=-1)]: Using backend LokyBackend with 2 concurrent workers.\n",
            "[Parallel(n_jobs=-1)]: Done  37 tasks      | elapsed:    5.3s\n",
            "[Parallel(n_jobs=-1)]: Done 158 tasks      | elapsed:   37.3s\n",
            "[Parallel(n_jobs=-1)]: Done 324 out of 324 | elapsed:  1.4min finished\n"
          ]
        },
        {
          "output_type": "stream",
          "name": "stdout",
          "text": [
            "{'learning_rate': 0.02, 'max_depth': 2, 'max_iter': 300, 'min_samples_leaf': 1}\n"
          ]
        }
      ]
    },
    {
      "cell_type": "code",
      "metadata": {
        "colab": {
          "base_uri": "https://localhost:8080/"
        },
        "id": "DGiPEb05KE0N",
        "outputId": "3fa5336c-b133-40ae-9031-982148dab556"
      },
      "source": [
        "params = {'max_iter': 300, # 트리의 개수\n",
        "          'max_depth': 2,\n",
        "           'min_samples_leaf': 1,\n",
        "          'learning_rate': 0.02,\n",
        "          } # 'squared_error'와 같음\n",
        "\n",
        "\n",
        "hist = ensemble.HistGradientBoostingRegressor(**params)\n",
        "hist.fit(x_train, y_train)\n",
        "\n",
        "mse = mean_squared_error(y_test, hist.predict(x_test))\n",
        "print(\"The mean squared error (MSE) on test set: {:.4f}\".format(mse))\n",
        "print(\"The initial error of API ETA on test set: {:.4f}\".format(mean_squared_error(y_test, x_test[:,0]) ))\n",
        "\n",
        "mae = mean_absolute_error(y_test, hist.predict(x_test))\n",
        "print(\"The mean absolute error (MAE) on test set: {:.4f}\".format(mae))\n",
        "print(\"The initial error of API ETA on test set: {:.4f}\".format(mean_absolute_error(y_test, x_test[:,0]) ))"
      ],
      "execution_count": null,
      "outputs": [
        {
          "output_type": "stream",
          "name": "stdout",
          "text": [
            "The mean squared error (MSE) on test set: 6.9250\n",
            "The initial error of API ETA on test set: 8.8452\n",
            "The mean absolute error (MAE) on test set: 2.0461\n",
            "The initial error of API ETA on test set: 2.0851\n"
          ]
        }
      ]
    },
    {
      "cell_type": "code",
      "metadata": {
        "id": "faAdfCzCGLp5"
      },
      "source": [
        ">>> from sklearn.experimental import enable_hist_gradient_boosting  # noqa\n",
        ">>> # 이제 앙상블에서 정상적으로 가져올 수 있습니다.\n",
        ">>> from sklearn.ensemble import HistGradientBoostingRegressor"
      ],
      "execution_count": null,
      "outputs": []
    },
    {
      "cell_type": "markdown",
      "metadata": {
        "id": "LoxBVfeRMMjU"
      },
      "source": [
        "## PredefinedSplit"
      ]
    },
    {
      "cell_type": "code",
      "metadata": {
        "id": "Z9V_npTTLWRf"
      },
      "source": [
        "# 파라미터 값 좀 더 확장\n",
        "param_grid = {'max_iter': [100, 200, 300,400,500],\n",
        "  'max_depth': [1,2, 3, 4, 5],\n",
        "   'min_samples_leaf': [1, 20, 50, 100],\n",
        "  'learning_rate': [0.01, 0.02, 0.05]}\n",
        "  # 'loss': ['ls']} "
      ],
      "execution_count": null,
      "outputs": []
    },
    {
      "cell_type": "code",
      "metadata": {
        "colab": {
          "base_uri": "https://localhost:8080/"
        },
        "id": "KD86az_K6mRE",
        "outputId": "f4cb5a14-eb9e-4a44-9800-9510ab3ffc28"
      },
      "source": [
        "from sklearn.model_selection import GridSearchCV\n",
        "from sklearn.model_selection import PredefinedSplit\n",
        "# from sklearn.ensemble import HistGradientBoostingRegressor\n",
        "\n",
        "\n",
        "# train set과 test set의 input과 output를 각각 이어 붙여서 X,y를 정의 \n",
        "X = np.concatenate((x_train,x_test), axis=0)\n",
        "y = np.concatenate((y_train,y_test), axis=0)\n",
        "\n",
        "# 전체 데이터 X에서 training data에 해당하는 index는 -1, test data에 해당하는 index는 0이 되도록, \n",
        "# 여기서는 [-1, -1, ... , -1, 0, 0, ... , 0] 같은 형태의 1차원 배열 test fold와 predefined split을 정의\n",
        "pds = PredefinedSplit(test_fold=[-1]*len(x_train)+[0]*len(x_test))\n",
        "# grid search 모델 정의, 학습 및 model selection\n",
        "grid_search = GridSearchCV(estimator=ensemble.HistGradientBoostingRegressor(), \n",
        "                   param_grid=param_grid,\n",
        "                   cv=pds, n_jobs=-1, scoring='neg_mean_squared_error', verbose=2)\n",
        "grid_search.fit(X, y)\n",
        "print(grid_search.best_params_)"
      ],
      "execution_count": null,
      "outputs": [
        {
          "output_type": "stream",
          "name": "stdout",
          "text": [
            "Fitting 1 folds for each of 300 candidates, totalling 300 fits\n"
          ]
        },
        {
          "output_type": "stream",
          "name": "stderr",
          "text": [
            "[Parallel(n_jobs=-1)]: Using backend LokyBackend with 2 concurrent workers.\n",
            "[Parallel(n_jobs=-1)]: Done  81 tasks      | elapsed:   19.4s\n",
            "[Parallel(n_jobs=-1)]: Done 228 tasks      | elapsed:  1.1min\n",
            "[Parallel(n_jobs=-1)]: Done 300 out of 300 | elapsed:  1.5min finished\n"
          ]
        },
        {
          "output_type": "stream",
          "name": "stdout",
          "text": [
            "{'learning_rate': 0.02, 'max_depth': 3, 'max_iter': 400, 'min_samples_leaf': 1}\n"
          ]
        }
      ]
    },
    {
      "cell_type": "code",
      "metadata": {
        "colab": {
          "base_uri": "https://localhost:8080/"
        },
        "id": "eZ5pxlo843x-",
        "outputId": "1c68dcb8-98c2-4426-c4ab-f85690f1701a"
      },
      "source": [
        "params = {'max_iter': 400, # 트리의 개수\n",
        "          'max_depth': 3,\n",
        "           'min_samples_leaf': 1,\n",
        "          'learning_rate': 0.02,\n",
        "         } # 'squared_error'와 같음\n",
        "\n",
        "\n",
        "hist = ensemble.HistGradientBoostingRegressor(**params)\n",
        "hist.fit(x_train, y_train)\n",
        "\n",
        "mse = mean_squared_error(y_test, hist.predict(x_test))\n",
        "print(\"The mean squared error (MSE) on test set: {:.4f}\".format(mse))\n",
        "print(\"The initial error of API ETA on test set: {:.4f}\".format(mean_squared_error(y_test, x_test[:,0]) ))\n",
        "\n",
        "mae = mean_absolute_error(y_test, hist.predict(x_test))\n",
        "print(\"The mean absolute error (MAE) on test set: {:.4f}\".format(mae))\n",
        "print(\"The initial error of API ETA on test set: {:.4f}\".format(mean_absolute_error(y_test, x_test[:,0]) ))"
      ],
      "execution_count": null,
      "outputs": [
        {
          "output_type": "stream",
          "name": "stdout",
          "text": [
            "The mean squared error (MSE) on test set: 6.6860\n",
            "The initial error of API ETA on test set: 8.8452\n",
            "The mean absolute error (MAE) on test set: 1.9927\n",
            "The initial error of API ETA on test set: 2.0851\n"
          ]
        }
      ]
    },
    {
      "cell_type": "markdown",
      "metadata": {
        "id": "8RYzUj61PsOo"
      },
      "source": [
        "결론 : 카테고리 피쳐 제외 PCA + HistGradientBoostingRegressor + PredefinedSplit + GridSearchCV 성능이 제일 좋다\n",
        "\n",
        "### The mean squared error (MSE) on test set: 6.6860"
      ]
    },
    {
      "cell_type": "markdown",
      "metadata": {
        "id": "J7S283N5Oa3-"
      },
      "source": [
        "[채점 기준] test set에 대한 MSE(소숫점 둘째 자리까지)를 기준으로 점수를         매기도록 하겠습니다.   \n",
        "   \n",
        "test set은 절대 학습에 이용하시면 안됩니다!! 원래 generalization이 되는지 평가 하기 위해서는 test set이 주어지지 않는 것이 맞는데, 이 과제에서 주어지는 test set은 model selection을 위한 validation set이라고 생각하시고 과제를 진행해주세요. 그리고 randomness가 들어간 모델의 경우 평가를 위해서 random_state를 고정해주세요.\n",
        "\n",
        "목표 MSE 8 이하 달성: 10점   \n",
        "MSE 8.05 이하 달성: 9점   \n",
        "MSE 8.15 이하 달성: 8점   \n",
        "Chapter 3까지의 내용도 활용하여 MSE 8.25 이하 달성: 7점   \n",
        "Chapter 2까지의 내용만 활용하여 MSE 8.25 이하 달성: 6점   \n",
        "제출하였으나 코드 실행 안됨: 5점   "
      ]
    },
    {
      "cell_type": "markdown",
      "metadata": {
        "id": "15oPUfDRQ8In"
      },
      "source": [
        "----------------------------"
      ]
    }
  ]
}