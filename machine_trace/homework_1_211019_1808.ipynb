{
  "nbformat": 4,
  "nbformat_minor": 0,
  "metadata": {
    "colab": {
      "name": "homework-1.ipynb",
      "provenance": [],
      "collapsed_sections": [],
      "authorship_tag": "ABX9TyN5fJnDboOGgt2/bFgLCgWt",
      "include_colab_link": true
    },
    "kernelspec": {
      "name": "python3",
      "display_name": "Python 3"
    },
    "language_info": {
      "name": "python"
    }
  },
  "cells": [
    {
      "cell_type": "markdown",
      "metadata": {
        "id": "view-in-github",
        "colab_type": "text"
      },
      "source": [
        "<a href=\"https://colab.research.google.com/github/HayeonKimm/machine-Learning/blob/main/machine_trace/homework_1_211019_1808.ipynb\" target=\"_parent\"><img src=\"https://colab.research.google.com/assets/colab-badge.svg\" alt=\"Open In Colab\"/></a>"
      ]
    },
    {
      "cell_type": "markdown",
      "metadata": {
        "id": "p0PFscC_vyjH"
      },
      "source": [
        ""
      ]
    },
    {
      "cell_type": "markdown",
      "metadata": {
        "id": "HjHmM7TOv1Bs"
      },
      "source": [
        "# Homework -1 "
      ]
    },
    {
      "cell_type": "code",
      "metadata": {
        "id": "ELVTiBdUx3Gu"
      },
      "source": [
        "import torch\n",
        "import torch.nn as nn"
      ],
      "execution_count": null,
      "outputs": []
    },
    {
      "cell_type": "code",
      "metadata": {
        "id": "NIGmHbiJx0BR"
      },
      "source": [
        "# Hyper-parameters\n",
        "input_size = 1\n",
        "output_size = 1\n",
        "num_epochs = 100\n",
        "learning_rate = 0.1"
      ],
      "execution_count": null,
      "outputs": []
    },
    {
      "cell_type": "code",
      "metadata": {
        "id": "zE6tNRnHx1KY"
      },
      "source": [
        "# Linear regression model, y = Wx+b\n",
        "model = nn.Linear(input_size, output_size) "
      ],
      "execution_count": null,
      "outputs": []
    },
    {
      "cell_type": "code",
      "metadata": {
        "id": "rRf9JYTCx571"
      },
      "source": [
        "# Loss and optimizer\n",
        "criterion = nn.MSELoss()\n",
        "optimizer = torch.optim.SGD(model.parameters(), lr=learning_rate)  "
      ],
      "execution_count": null,
      "outputs": []
    },
    {
      "cell_type": "code",
      "metadata": {
        "colab": {
          "base_uri": "https://localhost:8080/"
        },
        "id": "3RF_5UGrx7OL",
        "outputId": "e2ebc6c7-34b2-48d2-9cd8-b1b34a906472"
      },
      "source": [
        "print(x_data.shape, y_data.shape)\n",
        "if len(x_data.shape)==1 and len(y_data.shape)==1:\n",
        "  x_data = np.expand_dims(x_data, axis=-1)\n",
        "  y_data = np.expand_dims(y_data, axis=-1)\n",
        "print(x_data.shape, y_data.shape)"
      ],
      "execution_count": null,
      "outputs": [
        {
          "output_type": "stream",
          "name": "stdout",
          "text": [
            "(10, 1) (10, 1)\n",
            "(10, 1) (10, 1)\n"
          ]
        }
      ]
    },
    {
      "cell_type": "code",
      "metadata": {
        "colab": {
          "base_uri": "https://localhost:8080/"
        },
        "id": "1CjRDV9lx8Yt",
        "outputId": "d9e0e93f-86b4-46f4-a8ef-955de03becff"
      },
      "source": [
        "# Train the model\n",
        "for epoch in range(num_epochs):\n",
        "    # Convert numpy arrays to torch tensors\n",
        "    inputs = torch.from_numpy(x_data)\n",
        "    targets = torch.from_numpy(y_data)\n",
        "\n",
        "    # Predict outputs with the linear model.\n",
        "    outputs = model(inputs)\n",
        "    loss = criterion(outputs, targets)\n",
        "    \n",
        "    # compute gradients and update\n",
        "    optimizer.zero_grad()\n",
        "    loss.backward()\n",
        "    optimizer.step()\n",
        "    \n",
        "    if (epoch+1) % 5 == 0:\n",
        "        print ('Epoch [{}/{}], Loss: {:.4f}'.format(epoch+1, num_epochs, loss.item()))"
      ],
      "execution_count": null,
      "outputs": [
        {
          "output_type": "stream",
          "name": "stdout",
          "text": [
            "Epoch [5/100], Loss: 0.0118\n",
            "Epoch [10/100], Loss: 0.0020\n",
            "Epoch [15/100], Loss: 0.0007\n",
            "Epoch [20/100], Loss: 0.0004\n",
            "Epoch [25/100], Loss: 0.0003\n",
            "Epoch [30/100], Loss: 0.0003\n",
            "Epoch [35/100], Loss: 0.0002\n",
            "Epoch [40/100], Loss: 0.0002\n",
            "Epoch [45/100], Loss: 0.0002\n",
            "Epoch [50/100], Loss: 0.0002\n",
            "Epoch [55/100], Loss: 0.0002\n",
            "Epoch [60/100], Loss: 0.0002\n",
            "Epoch [65/100], Loss: 0.0002\n",
            "Epoch [70/100], Loss: 0.0002\n",
            "Epoch [75/100], Loss: 0.0002\n",
            "Epoch [80/100], Loss: 0.0002\n",
            "Epoch [85/100], Loss: 0.0002\n",
            "Epoch [90/100], Loss: 0.0002\n",
            "Epoch [95/100], Loss: 0.0002\n",
            "Epoch [100/100], Loss: 0.0002\n"
          ]
        }
      ]
    },
    {
      "cell_type": "markdown",
      "metadata": {
        "id": "B34orMykk6CK"
      },
      "source": [
        "## HW1\n",
        "데이터셋의 크기가 1/10이 되었을때도 gradient descent를 이용한 linear regression이 잘 동작하는지 강의에서 배운 k-fold cross validation (k=5)을 활용해서 확인해보세요. \n",
        "그리고 데이터셋의 크기가 원래 사이즈였을 때도 똑같이 k-fold cross validation (k=5)를 진행해서 두 경우의 validation loss (k round의 평균 test loss)를 비교해보세요.\n",
        "\n",
        "###참고사항\n",
        "1.   위에 주어진 코드에서는 학습 방법에 초점이 맞춰져 test set이 따로 없었지만, 실제로 학습을 진행할때는 validation set이나 test set을 통해 성능을 확인하는 것이 필수적입니다!\n",
        "2.   전체 데이터를 k개의 부분집합으로 나누기 위해서 아래와 같은 sklearn 라이브러리의 KFold 클래스를 사용해도 되지만,\n",
        "```\n",
        "from sklearn.model_selection import KFold\n",
        "```\n",
        "연습을 위해서 Lab 1-1에서 배운 Slicing을 통해서 데이터셋을 k개로 나누고\n",
        "k round의 learning을 진행해주세요.\n",
        "\n",
        "\n",
        "\n"
      ]
    },
    {
      "cell_type": "markdown",
      "metadata": {
        "id": "NjUoPB3wvs8B"
      },
      "source": [
        "### 10분의 1로 나누는 코드 "
      ]
    },
    {
      "cell_type": "code",
      "metadata": {
        "colab": {
          "base_uri": "https://localhost:8080/"
        },
        "id": "CltoBt3GwNzc",
        "outputId": "2c97a41c-a866-47d4-a799-dbd253a9a264"
      },
      "source": [
        "from google.colab import drive\n",
        "drive.mount('/content/drive')"
      ],
      "execution_count": null,
      "outputs": [
        {
          "output_type": "stream",
          "name": "stdout",
          "text": [
            "Drive already mounted at /content/drive; to attempt to forcibly remount, call drive.mount(\"/content/drive\", force_remount=True).\n"
          ]
        }
      ]
    },
    {
      "cell_type": "code",
      "metadata": {
        "id": "1Nv29OHjvpih"
      },
      "source": [
        "import numpy as np\n",
        "\n",
        "file = open('/content/drive/MyDrive/Colab Notebooks/data/regression_data.txt','r')  # open the file with read-only\n",
        "text = file.readlines()  # read all line texts\n",
        "file.close()  # close the file\n",
        "\n",
        "x_data = []\n",
        "y_data = []\n",
        "\n",
        "# convert to float\n",
        "for idx,s in enumerate(text):\n",
        "    if idx%10==0:\n",
        "      # print(s)\n",
        "      data = s.split()\n",
        "      # print(data)\n",
        "      x_data.append(float(data[0]))\n",
        "      y_data.append(float(data[1]))    \n",
        "\n",
        "# convert to numpy-array\n",
        "x_data = np.asarray(x_data, dtype=np.float32)\n",
        "y_data = np.asarray(y_data, dtype=np.float32)"
      ],
      "execution_count": null,
      "outputs": []
    },
    {
      "cell_type": "markdown",
      "metadata": {
        "id": "NsUwwXEvwKLG"
      },
      "source": [
        "## K FOLD로 해결한 코드 "
      ]
    },
    {
      "cell_type": "code",
      "metadata": {
        "colab": {
          "base_uri": "https://localhost:8080/"
        },
        "id": "BM0ssbVXxewB",
        "outputId": "5f2df3f2-1fe1-4416-ffba-59847e97edeb"
      },
      "source": [
        "from sklearn.model_selection import KFold\n",
        "kf = KFold(n_splits=5)\n",
        "kf.get_n_splits(x_data)\n",
        "\n",
        "for train_index, test_index in kf.split(x_data):\n",
        "  print(f\"train_index: {train_index}, test_index: {test_index}\")"
      ],
      "execution_count": null,
      "outputs": [
        {
          "output_type": "stream",
          "name": "stdout",
          "text": [
            "train_index: [2 3 4 5 6 7 8 9], test_index: [0 1]\n",
            "train_index: [0 1 4 5 6 7 8 9], test_index: [2 3]\n",
            "train_index: [0 1 2 3 6 7 8 9], test_index: [4 5]\n",
            "train_index: [0 1 2 3 4 5 8 9], test_index: [6 7]\n",
            "train_index: [0 1 2 3 4 5 6 7], test_index: [8 9]\n"
          ]
        }
      ]
    },
    {
      "cell_type": "code",
      "metadata": {
        "id": "tBoY4_s5xlE8"
      },
      "source": [
        "import sys\n",
        "import torch\n",
        "import torch.nn as nn"
      ],
      "execution_count": null,
      "outputs": []
    },
    {
      "cell_type": "code",
      "metadata": {
        "colab": {
          "base_uri": "https://localhost:8080/"
        },
        "id": "Uf85e8Apv6Lf",
        "outputId": "72369091-c030-4807-cd00-2eca6fc74f5b"
      },
      "source": [
        "# import sys\n",
        "# import torch\n",
        "# import torch.nn\n",
        "\n",
        "\n",
        "min_error = sys.float_info.max\n",
        "min_error_index = []\n",
        "torch.manual_seed(0)\n",
        "\n",
        "\n",
        "if len(x_data.shape)==1 and len(y_data.shape)==1:\n",
        "  x_data = np.expand_dims(x_data, axis=-1)\n",
        "  y_data = np.expand_dims(y_data, axis=-1)\n",
        "\n",
        "\n",
        "\n",
        "for train_index, test_index in kf.split(x_data):\n",
        "  # Linear regression model, y = Wx+b\n",
        "  model = nn.Linear(input_size, output_size) \n",
        "  # Loss and optimizer\n",
        "  criterion = nn.MSELoss()\n",
        "  optimizer = torch.optim.SGD(model.parameters(), lr=learning_rate) \n",
        "  for epoch in range(num_epochs):\n",
        "      # Convert numpy arrays to torch tensors      \n",
        "      inputs = torch.from_numpy(x_data[train_index])\n",
        "      targets = torch.from_numpy(y_data[train_index])\n",
        "\n",
        "      # Predict outputs with the linear model.\n",
        "      outputs = model(inputs)\n",
        "      loss = criterion(outputs, targets)\n",
        "      \n",
        "      # compute gradients and update\n",
        "      optimizer.zero_grad()\n",
        "      loss.backward()\n",
        "      optimizer.step()\n",
        "      \n",
        "  output = model(torch.from_numpy(x_data[test_index]))\n",
        "  target = torch.from_numpy(y_data[test_index])\n",
        "  criterion = nn.MSELoss()\n",
        "  loss = criterion(output, target)\n",
        "  print(f\"error: {loss:.10f} when train index: {train_index}\")\n",
        "\n",
        "\n",
        "  if loss.item() < min_error:\n",
        "    min_error = loss.item()\n",
        "    min_error_index = train_index\n",
        "print(f\"Result -------------------------- \")\n",
        "print(f\"MSE: {min_error:10f}\")\n",
        "print(f\"Traning (X, Y): {np.array([x_data[train_index], y_data[train_index]]).T}\")"
      ],
      "execution_count": null,
      "outputs": [
        {
          "output_type": "stream",
          "name": "stdout",
          "text": [
            "error: 0.0000872823 when train index: [2 3 4 5 6 7 8 9]\n",
            "error: 0.0000266454 when train index: [0 1 4 5 6 7 8 9]\n",
            "error: 0.0004330618 when train index: [0 1 2 3 6 7 8 9]\n",
            "error: 0.0003423425 when train index: [0 1 2 3 4 5 8 9]\n",
            "error: 0.0007871477 when train index: [0 1 2 3 4 5 6 7]\n",
            "Result -------------------------- \n",
            "MSE:   0.000027\n",
            "Traning (X, Y): [[[ 0.07344105  0.30577654]\n",
            "  [-0.19720629  0.26657176]\n",
            "  [ 0.6460766   0.36950654]\n",
            "  [-0.5377919   0.24087606]\n",
            "  [ 0.07683325  0.28358054]\n",
            "  [-0.7655938   0.21120322]\n",
            "  [-0.7894805   0.23140231]\n",
            "  [ 0.2681902   0.31512383]]]\n"
          ]
        }
      ]
    },
    {
      "cell_type": "markdown",
      "metadata": {
        "id": "ZQaKgcKPwsDd"
      },
      "source": [
        "## 시각화 코드 "
      ]
    },
    {
      "cell_type": "code",
      "metadata": {
        "id": "RsWaEQ1gwqdM"
      },
      "source": [
        "import matplotlib.pyplot as plt\n",
        "%matplotlib inline\n",
        "\n",
        "plt.figure(1)\n",
        "plt.plot(x_data, y_data, 'ro') # plot data\n",
        "\n",
        "plt.xlabel('x-axis')  \n",
        "plt.ylabel('y-axis')\n",
        "plt.title('My data')\n",
        "\n",
        "plt.show()"
      ],
      "execution_count": null,
      "outputs": []
    },
    {
      "cell_type": "markdown",
      "metadata": {
        "id": "l0QDDxZPw2cy"
      },
      "source": [
        "## 슬라이싱으로 해결하기 "
      ]
    },
    {
      "cell_type": "code",
      "metadata": {
        "id": "pNiSYYHiwz9-"
      },
      "source": [
        "x_train_box = x_data[2:],x_data[0:2 and 4:],x_data[0:4 and 6:],x_data[0:6 and 8:],x_data[:8]\n",
        "x_test_box = x_data[0:2],x_data[2:4],x_data[4:6],x_data[6:8],x_data[8:10]"
      ],
      "execution_count": null,
      "outputs": []
    },
    {
      "cell_type": "code",
      "metadata": {
        "colab": {
          "base_uri": "https://localhost:8080/"
        },
        "id": "6SGaeDS2w-b5",
        "outputId": "70b9595d-b402-436b-d772-22b43a67e095"
      },
      "source": [
        "import sys\n",
        "min_error = sys.float_info.max\n",
        "min_error_index = []\n",
        "torch.manual_seed(0)\n",
        "\n",
        "\n",
        "if len(x_data.shape)==1 and len(y_data.shape)==1:\n",
        "  x_data = np.expand_dims(x_data, axis=-1)\n",
        "  y_data = np.expand_dims(y_data, axis=-1)\n",
        "\n",
        "\n",
        "\n",
        "# for train_index, test_index in kf.split(x_data):\n",
        "\n",
        "\n",
        "  # Linear regression model, y = Wx+b\n",
        "  model = nn.Linear(input_size, output_size) \n",
        "  # Loss and optimizer\n",
        "  criterion = nn.MSELoss()\n",
        "  optimizer = torch.optim.SGD(model.parameters(), lr=learning_rate) \n",
        "  for epoch in range(num_epochs):\n",
        "      # Convert numpy arrays to torch tensors      \n",
        "\n",
        "\n",
        "# 여기서 값을 바꾸면 될 것 같다. 반복문과 인덱스를 사용하지 말고 , 일차원적으로 넣자. y값도  train, test 값(box)을 만들어야 한다. \n",
        "\n",
        "\n",
        "      inputs = torch.from_numpy(x_data[train_index])\n",
        "      targets = torch.from_numpy(y_data[train_index])\n",
        "\n",
        "      # Predict outputs with the linear model.\n",
        "      outputs = model(inputs)\n",
        "      loss = criterion(outputs, targets)\n",
        "      \n",
        "      # compute gradients and update\n",
        "      optimizer.zero_grad()\n",
        "      loss.backward()\n",
        "      optimizer.step()\n",
        "      \n",
        "  output = model(torch.from_numpy(x_data[test_index]))\n",
        "  target = torch.from_numpy(y_data[test_index])\n",
        "  criterion = nn.MSELoss()\n",
        "  loss = criterion(output, target)\n",
        "  print(f\"error: {loss:.10f} when train index: {train_index}\")\n",
        "\n",
        "\n",
        "  if loss.item() < min_error:\n",
        "    min_error = loss.item()\n",
        "    min_error_index = train_index\n",
        "print(f\"Result -------------------------- \")\n",
        "print(f\"MSE: {min_error:10f}\")\n",
        "print(f\"Traning (X, Y): {np.array([x_data[train_index], y_data[train_index]]).T}\")"
      ],
      "execution_count": null,
      "outputs": [
        {
          "output_type": "stream",
          "name": "stdout",
          "text": [
            "Result -------------------------- \n",
            "MSE: 179769313486231570814527423731704356798070567525844996598917476803157260780028538760589558632766878171540458953514382464234321326889464182768467546703537516986049910576551282076245490090389328944075868508455133942304583236903222948165808559332123348274797826204144723168738177180919299881250404026184124858368.000000\n",
            "Traning (X, Y): [[[ 0.07344105  0.30577654]\n",
            "  [-0.19720629  0.26657176]\n",
            "  [ 0.6460766   0.36950654]\n",
            "  [-0.5377919   0.24087606]\n",
            "  [ 0.07683325  0.28358054]\n",
            "  [-0.7655938   0.21120322]\n",
            "  [-0.7894805   0.23140231]\n",
            "  [ 0.2681902   0.31512383]]]\n"
          ]
        }
      ]
    },
    {
      "cell_type": "code",
      "metadata": {
        "id": "x1ZGxWySysIY"
      },
      "source": [
        ""
      ],
      "execution_count": null,
      "outputs": []
    }
  ]
}