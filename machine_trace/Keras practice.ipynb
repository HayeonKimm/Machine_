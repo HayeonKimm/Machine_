{
 "cells": [
  {
   "cell_type": "code",
   "execution_count": 6,
   "id": "3791ad69",
   "metadata": {
    "ExecuteTime": {
     "end_time": "2021-11-12T04:42:07.237234Z",
     "start_time": "2021-11-12T04:42:07.222423Z"
    }
   },
   "outputs": [
    {
     "name": "stdout",
     "output_type": "stream",
     "text": [
      "tensorflow version: 2.3.0\n",
      "keras version: 2.4.0\n"
     ]
    }
   ],
   "source": [
    "import tensorflow as tf\n",
    "from tensorflow import keras\n",
    "print('tensorflow version:',tf.__version__)\n",
    "print('keras version:',keras.__version__)"
   ]
  },
  {
   "cell_type": "markdown",
   "id": "3d845422",
   "metadata": {},
   "source": [
    "# 시퀀셜 API를 사용하여 이미지 분류하기 만들기"
   ]
  },
  {
   "cell_type": "markdown",
   "id": "712b63d6",
   "metadata": {},
   "source": [
    "## 케라스를 사용하여 데이터셋 적재하기"
   ]
  },
  {
   "cell_type": "code",
   "execution_count": 7,
   "id": "b11e3cc7",
   "metadata": {
    "ExecuteTime": {
     "end_time": "2021-11-12T04:44:02.224295Z",
     "start_time": "2021-11-12T04:43:58.478769Z"
    }
   },
   "outputs": [
    {
     "name": "stdout",
     "output_type": "stream",
     "text": [
      "Downloading data from https://storage.googleapis.com/tensorflow/tf-keras-datasets/train-labels-idx1-ubyte.gz\n",
      "32768/29515 [=================================] - 0s 0us/step\n",
      "Downloading data from https://storage.googleapis.com/tensorflow/tf-keras-datasets/train-images-idx3-ubyte.gz\n",
      "26427392/26421880 [==============================] - 2s 0us/step\n",
      "Downloading data from https://storage.googleapis.com/tensorflow/tf-keras-datasets/t10k-labels-idx1-ubyte.gz\n",
      "8192/5148 [===============================================] - 0s 0us/step\n",
      "Downloading data from https://storage.googleapis.com/tensorflow/tf-keras-datasets/t10k-images-idx3-ubyte.gz\n",
      "4423680/4422102 [==============================] - 0s 0us/step\n"
     ]
    }
   ],
   "source": [
    "fashion_mnist= keras.datasets.fashion_mnist\n",
    "(X_train_full, y_train_full), (X_test,y_test) = fashion_mnist.load_data()"
   ]
  },
  {
   "cell_type": "code",
   "execution_count": 20,
   "id": "6aeb7f5b",
   "metadata": {
    "ExecuteTime": {
     "end_time": "2021-11-12T04:49:17.984063Z",
     "start_time": "2021-11-12T04:49:17.965113Z"
    }
   },
   "outputs": [
    {
     "name": "stdout",
     "output_type": "stream",
     "text": [
      "(60000, 28, 28)\n",
      "uint8\n"
     ]
    }
   ],
   "source": [
    "print(X_train_full.shape,X_train_full.dtype,sep='\\n')\n",
    "\n",
    "# 이미 훈련 세트와 테스트 세트로 나누어져 있다."
   ]
  },
  {
   "cell_type": "code",
   "execution_count": 22,
   "id": "9786c735",
   "metadata": {
    "ExecuteTime": {
     "end_time": "2021-11-12T04:55:12.403136Z",
     "start_time": "2021-11-12T04:55:12.161296Z"
    }
   },
   "outputs": [],
   "source": [
    "# 경사하강법으로 신경망을 훈련하기 때문에 입력 특성의 스케일을 조정해야 한다.\n",
    "# 픽셀 강도를 255.0으로 나누어 0~1 사이 범위로 조정\n",
    "\n",
    "\n",
    "X_valid,X_train = X_train_full[:5000]/255.0,X_train_full[5000:]/255.0 # 검증셋이 없기때문에 검증셋 만들기\n",
    "y_valid,y_train = y_train_full[:5000],y_train_full[5000:]\n",
    "\n",
    "x_test = X_test/255.0"
   ]
  },
  {
   "cell_type": "code",
   "execution_count": 24,
   "id": "a401a23e",
   "metadata": {
    "ExecuteTime": {
     "end_time": "2021-11-12T04:57:50.511998Z",
     "start_time": "2021-11-12T04:57:50.503020Z"
    }
   },
   "outputs": [],
   "source": [
    "# 레이블에 해당하는 아이템을 나타내기 위해 클래스 이름의 리스트 만들기\n",
    "\n",
    "class_names = ['T-shirt/top','Trouser','Pullover','Dress','Coat','Sandal','Shirt','Sneaker','Bag','Ankle boot']"
   ]
  },
  {
   "cell_type": "code",
   "execution_count": 25,
   "id": "110809b6",
   "metadata": {
    "ExecuteTime": {
     "end_time": "2021-11-12T04:57:55.547538Z",
     "start_time": "2021-11-12T04:57:55.539053Z"
    }
   },
   "outputs": [
    {
     "data": {
      "text/plain": [
       "10"
      ]
     },
     "execution_count": 25,
     "metadata": {},
     "output_type": "execute_result"
    }
   ],
   "source": [
    "len(class_names)"
   ]
  },
  {
   "cell_type": "code",
   "execution_count": 26,
   "id": "ba740c91",
   "metadata": {
    "ExecuteTime": {
     "end_time": "2021-11-12T05:00:13.390950Z",
     "start_time": "2021-11-12T05:00:13.380852Z"
    }
   },
   "outputs": [
    {
     "data": {
      "text/plain": [
       "'Coat'"
      ]
     },
     "execution_count": 26,
     "metadata": {},
     "output_type": "execute_result"
    }
   ],
   "source": [
    "class_names[y_train[0]]"
   ]
  },
  {
   "cell_type": "markdown",
   "id": "d0c1fea5",
   "metadata": {},
   "source": [
    "## 시퀀셜 API를 사용하여 모델 만들기"
   ]
  },
  {
   "cell_type": "markdown",
   "id": "e6d00492",
   "metadata": {
    "ExecuteTime": {
     "end_time": "2021-11-12T05:03:22.526806Z",
     "start_time": "2021-11-12T05:03:22.511748Z"
    }
   },
   "source": [
    "첫 번째 라인은 Sequential 모델을 만든다. 이 모델은 가장 간단한 케라스의 신경망 모델이다. \n",
    "\n",
    "순서대로 연결된 층을 일렬로 쌓아서 구성한다. 이를 시퀀셜 API라고 부른다."
   ]
  },
  {
   "cell_type": "code",
   "execution_count": 29,
   "id": "e3c8a3a7",
   "metadata": {
    "ExecuteTime": {
     "end_time": "2021-11-12T05:02:17.907466Z",
     "start_time": "2021-11-12T05:02:17.823836Z"
    }
   },
   "outputs": [],
   "source": [
    "model = keras.models.Sequential()\n",
    "model.add(keras.layers.Flatten(input_shape=[28,28])) # Flatten 층은 입력 이미지를 !D배열로 변환한다. 입력데이터를 받으면 X.reshape(-1,28*28)을 계산한다.\n",
    "model.add(keras.layers.Dense(300,activation='relu'))\n",
    "model.add(keras.layers.Dense(100,activation='relu'))\n",
    "model.add(keras.layers.Dense(10,activation='softmax'))"
   ]
  },
  {
   "cell_type": "code",
   "execution_count": null,
   "id": "30039c5c",
   "metadata": {},
   "outputs": [],
   "source": [
    "# 내포하는 방식\n",
    "\n",
    "# model = keras.models.Sequential([\n",
    "#     keras.layers.Flatten(input_shape=[28,28]),\n",
    "#     keras.layers.Dense(300,activation='relu'),\n",
    "#     keras.layers.Dense(300,activation='relu'),\n",
    "#     keras.layers.Dense(300,activation='softmax)    \n",
    "    \n",
    "# ])"
   ]
  },
  {
   "cell_type": "code",
   "execution_count": 31,
   "id": "7cd1a86d",
   "metadata": {
    "ExecuteTime": {
     "end_time": "2021-11-12T05:09:45.791816Z",
     "start_time": "2021-11-12T05:09:45.785823Z"
    }
   },
   "outputs": [
    {
     "name": "stdout",
     "output_type": "stream",
     "text": [
      "Model: \"sequential_2\"\n",
      "_________________________________________________________________\n",
      "Layer (type)                 Output Shape              Param #   \n",
      "=================================================================\n",
      "flatten_2 (Flatten)          (None, 784)               0         \n",
      "_________________________________________________________________\n",
      "dense (Dense)                (None, 300)               235500    \n",
      "_________________________________________________________________\n",
      "dense_1 (Dense)              (None, 100)               30100     \n",
      "_________________________________________________________________\n",
      "dense_2 (Dense)              (None, 10)                1010      \n",
      "=================================================================\n",
      "Total params: 266,610\n",
      "Trainable params: 266,610\n",
      "Non-trainable params: 0\n",
      "_________________________________________________________________\n"
     ]
    }
   ],
   "source": [
    "model.summary() # 모든 층 출력"
   ]
  },
  {
   "cell_type": "markdown",
   "id": "9579e25e",
   "metadata": {},
   "source": [
    "## 모델 컴파일"
   ]
  },
  {
   "cell_type": "markdown",
   "id": "70d42c1e",
   "metadata": {
    "ExecuteTime": {
     "end_time": "2021-11-12T05:12:39.131733Z",
     "start_time": "2021-11-12T05:12:39.121760Z"
    }
   },
   "source": [
    "모델을 만들고 나서 compile() 메서드를 호출하여 사용할 손실 함수와 옵티마이저를 지정해야 한다.\n",
    "\n",
    "부가적으로 훈련과 평가 시에 계산할 지표를 추가로 지정할 수 있다."
   ]
  },
  {
   "cell_type": "code",
   "execution_count": 33,
   "id": "35664cb2",
   "metadata": {
    "ExecuteTime": {
     "end_time": "2021-11-12T05:13:39.701574Z",
     "start_time": "2021-11-12T05:13:39.688494Z"
    }
   },
   "outputs": [],
   "source": [
    "model.compile(loss='sparse_categorical_crossentropy',\n",
    "             optimizer='sgd',\n",
    "             metrics=['accuracy'])"
   ]
  },
  {
   "cell_type": "markdown",
   "id": "d08a10ff",
   "metadata": {},
   "source": [
    "### 지식\n",
    "레이블이 정수 하나로 이루어져 있고(즉, 샘플마다 타깃 클래스 인덱스 하나가 있다.여기에서는 0~9까지 정수) 클래스가 배타적이므로\n",
    "'sparse_categorical_crossentropy' 손실을 사용한다\n",
    "\n",
    "만약 샘플마다 클래스별 타깃 확률을 가지고 있다면 (예를 들어 클래스 3의 경우[0.,0.,0.,1.,0.,0.,0.,0.,0.,0.]인 원핫벡터라면) 대신\n",
    "'categorical_crossentropy' 손실을 사용해야 한다.\n",
    "\n",
    "(이진 분류나 다중 레이블 이진 분류를 수행한다면 출력층에 'softmax' 함수 대신 'sigmoid'함수를 사용하고 'binary_crossentropy'손실을 사용한다."
   ]
  },
  {
   "cell_type": "markdown",
   "id": "4927fbe3",
   "metadata": {},
   "source": [
    "### 지식2\n",
    "\n",
    "옵티마이저에 'sgd'를 지정하면 기본 확률적 경사 하강법을 사용하여 모델을 훈련한다는 의미다.\n",
    "\n",
    "다른 말로 하면 케라스가 앞서 소개한 역전파 알고리즘을 수행한다."
   ]
  },
  {
   "cell_type": "markdown",
   "id": "61504114",
   "metadata": {},
   "source": [
    "## 모델 훈련과 평가"
   ]
  },
  {
   "cell_type": "code",
   "execution_count": 35,
   "id": "141ac0b6",
   "metadata": {
    "ExecuteTime": {
     "end_time": "2021-11-12T05:27:34.232305Z",
     "start_time": "2021-11-12T05:26:10.477257Z"
    }
   },
   "outputs": [
    {
     "name": "stdout",
     "output_type": "stream",
     "text": [
      "Epoch 1/30\n",
      "1719/1719 [==============================] - 4s 3ms/step - loss: 0.7407 - accuracy: 0.7565 - val_loss: 0.5051 - val_accuracy: 0.8292\n",
      "Epoch 2/30\n",
      "1719/1719 [==============================] - 5s 3ms/step - loss: 0.4864 - accuracy: 0.8308 - val_loss: 0.4575 - val_accuracy: 0.8462\n",
      "Epoch 3/30\n",
      "1719/1719 [==============================] - 5s 3ms/step - loss: 0.4410 - accuracy: 0.8464 - val_loss: 0.4078 - val_accuracy: 0.8644\n",
      "Epoch 4/30\n",
      "1719/1719 [==============================] - 4s 3ms/step - loss: 0.4150 - accuracy: 0.8542 - val_loss: 0.4107 - val_accuracy: 0.8588\n",
      "Epoch 5/30\n",
      "1719/1719 [==============================] - 5s 3ms/step - loss: 0.3967 - accuracy: 0.8608 - val_loss: 0.3806 - val_accuracy: 0.8672\n",
      "Epoch 6/30\n",
      "1719/1719 [==============================] - 4s 2ms/step - loss: 0.3792 - accuracy: 0.8666 - val_loss: 0.3894 - val_accuracy: 0.8644\n",
      "Epoch 7/30\n",
      "1719/1719 [==============================] - 2s 1ms/step - loss: 0.3676 - accuracy: 0.8707 - val_loss: 0.3622 - val_accuracy: 0.8742\n",
      "Epoch 8/30\n",
      "1719/1719 [==============================] - 3s 2ms/step - loss: 0.3560 - accuracy: 0.8743 - val_loss: 0.3653 - val_accuracy: 0.8692\n",
      "Epoch 9/30\n",
      "1719/1719 [==============================] - 3s 2ms/step - loss: 0.3455 - accuracy: 0.8772 - val_loss: 0.3710 - val_accuracy: 0.8696\n",
      "Epoch 10/30\n",
      "1719/1719 [==============================] - 3s 2ms/step - loss: 0.3348 - accuracy: 0.8801 - val_loss: 0.3441 - val_accuracy: 0.8746\n",
      "Epoch 11/30\n",
      "1719/1719 [==============================] - 2s 1ms/step - loss: 0.3265 - accuracy: 0.8838 - val_loss: 0.3360 - val_accuracy: 0.8828\n",
      "Epoch 12/30\n",
      "1719/1719 [==============================] - 2s 1ms/step - loss: 0.3182 - accuracy: 0.8855 - val_loss: 0.3315 - val_accuracy: 0.8840\n",
      "Epoch 13/30\n",
      "1719/1719 [==============================] - 2s 1ms/step - loss: 0.3114 - accuracy: 0.8888 - val_loss: 0.3378 - val_accuracy: 0.8798\n",
      "Epoch 14/30\n",
      "1719/1719 [==============================] - 2s 1ms/step - loss: 0.3048 - accuracy: 0.8910 - val_loss: 0.3307 - val_accuracy: 0.8828\n",
      "Epoch 15/30\n",
      "1719/1719 [==============================] - 2s 1ms/step - loss: 0.2983 - accuracy: 0.8927 - val_loss: 0.3313 - val_accuracy: 0.8818\n",
      "Epoch 16/30\n",
      "1719/1719 [==============================] - 3s 2ms/step - loss: 0.2921 - accuracy: 0.8929 - val_loss: 0.3411 - val_accuracy: 0.8766\n",
      "Epoch 17/30\n",
      "1719/1719 [==============================] - 3s 2ms/step - loss: 0.2865 - accuracy: 0.8978 - val_loss: 0.3179 - val_accuracy: 0.8842\n",
      "Epoch 18/30\n",
      "1719/1719 [==============================] - 2s 1ms/step - loss: 0.2803 - accuracy: 0.8991 - val_loss: 0.3148 - val_accuracy: 0.8834\n",
      "Epoch 19/30\n",
      "1719/1719 [==============================] - 2s 1ms/step - loss: 0.2756 - accuracy: 0.9004 - val_loss: 0.3134 - val_accuracy: 0.8888\n",
      "Epoch 20/30\n",
      "1719/1719 [==============================] - 2s 1ms/step - loss: 0.2698 - accuracy: 0.9029 - val_loss: 0.3123 - val_accuracy: 0.8880\n",
      "Epoch 21/30\n",
      "1719/1719 [==============================] - 2s 1ms/step - loss: 0.2648 - accuracy: 0.9050 - val_loss: 0.3072 - val_accuracy: 0.8860\n",
      "Epoch 22/30\n",
      "1719/1719 [==============================] - 2s 1ms/step - loss: 0.2599 - accuracy: 0.9065 - val_loss: 0.3388 - val_accuracy: 0.8778\n",
      "Epoch 23/30\n",
      "1719/1719 [==============================] - 2s 1ms/step - loss: 0.2546 - accuracy: 0.9081 - val_loss: 0.3067 - val_accuracy: 0.8870\n",
      "Epoch 24/30\n",
      "1719/1719 [==============================] - 2s 1ms/step - loss: 0.2508 - accuracy: 0.9110 - val_loss: 0.3037 - val_accuracy: 0.8878\n",
      "Epoch 25/30\n",
      "1719/1719 [==============================] - 2s 1ms/step - loss: 0.2467 - accuracy: 0.9106 - val_loss: 0.3220 - val_accuracy: 0.8784\n",
      "Epoch 26/30\n",
      "1719/1719 [==============================] - 2s 1ms/step - loss: 0.2411 - accuracy: 0.9133 - val_loss: 0.3181 - val_accuracy: 0.8826\n",
      "Epoch 27/30\n",
      "1719/1719 [==============================] - 2s 1ms/step - loss: 0.2371 - accuracy: 0.9156 - val_loss: 0.3014 - val_accuracy: 0.8898\n",
      "Epoch 28/30\n",
      "1719/1719 [==============================] - 2s 1ms/step - loss: 0.2339 - accuracy: 0.9168 - val_loss: 0.3144 - val_accuracy: 0.8892\n",
      "Epoch 29/30\n",
      "1719/1719 [==============================] - 2s 1ms/step - loss: 0.2291 - accuracy: 0.9174 - val_loss: 0.3069 - val_accuracy: 0.8866\n",
      "Epoch 30/30\n",
      "1719/1719 [==============================] - 2s 1ms/step - loss: 0.2260 - accuracy: 0.9194 - val_loss: 0.3042 - val_accuracy: 0.8884\n"
     ]
    }
   ],
   "source": [
    "history = model.fit(X_train, y_train, epochs=30, # epochs 설정안하면 기본값 1\n",
    "                   validation_data=(X_valid,y_valid))"
   ]
  },
  {
   "cell_type": "code",
   "execution_count": 37,
   "id": "a637b89b",
   "metadata": {
    "ExecuteTime": {
     "end_time": "2021-11-12T05:39:25.196723Z",
     "start_time": "2021-11-12T05:39:24.658126Z"
    }
   },
   "outputs": [],
   "source": [
    "import pandas as pd\n",
    "import matplotlib.pyplot as plt"
   ]
  },
  {
   "cell_type": "markdown",
   "id": "1dbf62d9",
   "metadata": {},
   "source": [
    "## 학습곡선 (history.history)"
   ]
  },
  {
   "cell_type": "code",
   "execution_count": 41,
   "id": "74c5a5e0",
   "metadata": {
    "ExecuteTime": {
     "end_time": "2021-11-12T05:42:24.092330Z",
     "start_time": "2021-11-12T05:42:23.759705Z"
    }
   },
   "outputs": [
    {
     "data": {
      "image/png": "[encoded data removed]",
      "text/plain": [
       "<Figure size 576x360 with 1 Axes>"
      ]
     },
     "metadata": {
      "needs_background": "light"
     },
     "output_type": "display_data"
    }
   ],
   "source": [
    "pd.DataFrame(history.history).plot(figsize=(8,5))\n",
    "plt.grid(True)\n",
    "plt.gca().set_ylim(0,1) # 수직축의 범위를 [0-1] 사이로 설정한다.\n",
    "plt.ylabel('val-loss')\n",
    "plt.xlabel('time(s)')\n",
    "plt.show()"
   ]
  },
  {
   "cell_type": "markdown",
   "id": "82782374",
   "metadata": {},
   "source": [
    "훈련손실은 에포크가 진행되는 동안 계산되고, 검증손실은 에포크가 끝난 후에 계산된다.\n",
    "\n",
    "그러므로 훈련곡선은 에포크의 절반만큼 왼쪽으로 이동해야 한다."
   ]
  },
  {
   "cell_type": "markdown",
   "id": "94d0195f",
   "metadata": {
    "ExecuteTime": {
     "end_time": "2021-11-12T05:52:44.951794Z",
     "start_time": "2021-11-12T05:52:44.945810Z"
    }
   },
   "source": [
    "일반적으로 충분히 오래 훈련하면 훈련 세트의 성능이 검증 세트의 성능을 앞지른다.\n",
    "\n",
    "검증손실이 여전히 계속 감소한다면 모델이 아직 완전히 수렴되지 않았다고 볼 수 있다. -> 훈련을 계속해야 한다."
   ]
  },
  {
   "cell_type": "markdown",
   "id": "0ee7ca6c",
   "metadata": {},
   "source": [
    "Keras 에서는 fit() 메서드를 다시 호출하면 중지되었던 곳에서부터 훈련을 이어갈 수 있다."
   ]
  },
  {
   "cell_type": "markdown",
   "id": "4bf44f05",
   "metadata": {},
   "source": [
    "## 모델 평가"
   ]
  },
  {
   "cell_type": "markdown",
   "id": "7aacee60",
   "metadata": {
    "ExecuteTime": {
     "end_time": "2021-11-12T05:55:50.753437Z",
     "start_time": "2021-11-12T05:55:50.746456Z"
    }
   },
   "source": [
    "모델의 검증 정확도가 만족스럽다면,   \n",
    "모델을 상용 환경으로 배포하기 전에 테스트 세트로 모델을 평가하여 일반화 오차를 추정"
   ]
  },
  {
   "cell_type": "code",
   "execution_count": 44,
   "id": "5545a2de",
   "metadata": {
    "ExecuteTime": {
     "end_time": "2021-11-12T05:56:15.497512Z",
     "start_time": "2021-11-12T05:56:14.727537Z"
    }
   },
   "outputs": [
    {
     "name": "stdout",
     "output_type": "stream",
     "text": [
      "313/313 [==============================] - 1s 2ms/step - loss: 61.0926 - accuracy: 0.8517\n"
     ]
    },
    {
     "data": {
      "text/plain": [
       "[61.09258270263672, 0.8517000079154968]"
      ]
     },
     "execution_count": 44,
     "metadata": {},
     "output_type": "execute_result"
    }
   ],
   "source": [
    "model.evaluate(X_test, y_test)"
   ]
  },
  {
   "cell_type": "markdown",
   "id": "8cf51894",
   "metadata": {},
   "source": [
    "검증 세트보다 테스트 세트에서 성능이 조금 낮은 것이 일반적이다.    \n",
    "하이퍼 파라미터를 튜닝한 곳이 테스트 세트가 아니라 검증 세트이기 때문. 테스트 세트에서는 하이퍼파라미터 조정 X, 일반화 오차를 낙관적으로 추정하게 됌"
   ]
  },
  {
   "cell_type": "markdown",
   "id": "2de29eee",
   "metadata": {},
   "source": [
    "## 모델을 사용해 예측을 만들기"
   ]
  },
  {
   "cell_type": "markdown",
   "id": "c9f425ed",
   "metadata": {
    "ExecuteTime": {
     "end_time": "2021-11-12T06:02:03.002181Z",
     "start_time": "2021-11-12T06:02:02.993205Z"
    }
   },
   "source": [
    "모델의 predict() 메서드를 사용해 새로운 샘플에 대해 예측을 만들 수 있다."
   ]
  },
  {
   "cell_type": "code",
   "execution_count": 48,
   "id": "c4fd7f0d",
   "metadata": {
    "ExecuteTime": {
     "end_time": "2021-11-12T06:00:13.095989Z",
     "start_time": "2021-11-12T06:00:13.019194Z"
    }
   },
   "outputs": [
    {
     "data": {
      "text/plain": [
       "array([[0., 0., 0., 0., 0., 0., 0., 0., 0., 1.],\n",
       "       [0., 0., 1., 0., 0., 0., 0., 0., 0., 0.],\n",
       "       [0., 1., 0., 0., 0., 0., 0., 0., 0., 0.]], dtype=float32)"
      ]
     },
     "execution_count": 48,
     "metadata": {},
     "output_type": "execute_result"
    }
   ],
   "source": [
    "X_new =X_test[:3]\n",
    "y_proba = model.predict(X_new)\n",
    "y_proba.round(2)"
   ]
  },
  {
   "cell_type": "markdown",
   "id": "a5829ca9",
   "metadata": {},
   "source": [
    "### 가장 높은 확률만 가진 클래스 찾기"
   ]
  },
  {
   "cell_type": "code",
   "execution_count": 50,
   "id": "07c46ca9",
   "metadata": {
    "ExecuteTime": {
     "end_time": "2021-11-12T06:23:52.173697Z",
     "start_time": "2021-11-12T06:23:52.104462Z"
    }
   },
   "outputs": [
    {
     "name": "stdout",
     "output_type": "stream",
     "text": [
      "WARNING:tensorflow:From C:\\Users\\cityo\\AppData\\Local\\Temp/ipykernel_463628/4139436455.py:1: Sequential.predict_classes (from tensorflow.python.keras.engine.sequential) is deprecated and will be removed after 2021-01-01.\n",
      "Instructions for updating:\n",
      "Please use instead:* `np.argmax(model.predict(x), axis=-1)`,   if your model does multi-class classification   (e.g. if it uses a `softmax` last-layer activation).* `(model.predict(x) > 0.5).astype(\"int32\")`,   if your model does binary classification   (e.g. if it uses a `sigmoid` last-layer activation).\n"
     ]
    },
    {
     "data": {
      "text/plain": [
       "array([9, 2, 1], dtype=int64)"
      ]
     },
     "execution_count": 50,
     "metadata": {},
     "output_type": "execute_result"
    }
   ],
   "source": [
    "y_pred = model.predict_classes(X_new)\n",
    "y_pred"
   ]
  },
  {
   "cell_type": "code",
   "execution_count": 52,
   "id": "cfe7498c",
   "metadata": {
    "ExecuteTime": {
     "end_time": "2021-11-12T06:24:25.282747Z",
     "start_time": "2021-11-12T06:24:25.263779Z"
    }
   },
   "outputs": [
    {
     "data": {
      "text/plain": [
       "array(['Ankle boot', 'Pullover', 'Trouser'], dtype='<U11')"
      ]
     },
     "execution_count": 52,
     "metadata": {},
     "output_type": "execute_result"
    }
   ],
   "source": [
    "import numpy as np\n",
    "np.array(class_names)[y_pred]"
   ]
  }
 ],
 "metadata": {
  "hide_input": false,
  "kernelspec": {
   "display_name": "Python 3 (ipykernel)",
   "language": "python",
   "name": "python3"
  },
  "language_info": {
   "codemirror_mode": {
    "name": "ipython",
    "version": 3
   },
   "file_extension": ".py",
   "mimetype": "text/x-python",
   "name": "python",
   "nbconvert_exporter": "python",
   "pygments_lexer": "ipython3",
   "version": "3.8.11"
  },
  "toc": {
   "base_numbering": 1,
   "nav_menu": {},
   "number_sections": true,
   "sideBar": true,
   "skip_h1_title": false,
   "title_cell": "Table of Contents",
   "title_sidebar": "Contents",
   "toc_cell": false,
   "toc_position": {},
   "toc_section_display": true,
   "toc_window_display": false
  }
 },
 "nbformat": 4,
 "nbformat_minor": 5
}
