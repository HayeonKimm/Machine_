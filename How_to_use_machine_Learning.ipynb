{
  "cells": [
    {
      "cell_type": "markdown",
      "metadata": {
        "colab_type": "text",
        "id": "view-in-github"
      },
      "source": [
        "<a href=\"https://colab.research.google.com/github/HayeonKimm/machine-Learning/blob/main/How_to_use_machine_Learning.ipynb\" target=\"_parent\"><img src=\"https://colab.research.google.com/assets/colab-badge.svg\" alt=\"Open In Colab\"/></a>"
      ]
    },
    {
      "cell_type": "markdown",
      "metadata": {
        "id": "VozLOgCsGkry"
      },
      "source": [
        "# How to use Machine Learning"
      ]
    },
    {
      "cell_type": "markdown",
      "metadata": {
        "id": "AN9lWSDiHark"
      },
      "source": [
        "### 20211021~"
      ]
    },
    {
      "cell_type": "markdown",
      "metadata": {},
      "source": [
        "## 앙상블 기법"
      ]
    },
    {
      "cell_type": "markdown",
      "metadata": {},
      "source": [
        "## 보깅 & 배깅 & 부스팅"
      ]
    },
    {
      "cell_type": "markdown",
      "metadata": {},
      "source": [
        "## 차원축소"
      ]
    },
    {
      "cell_type": "markdown",
      "metadata": {},
      "source": [
        "## PCA & MDS & T-"
      ]
    }
  ],
  "metadata": {
    "colab": {
      "authorship_tag": "ABX9TyPie6yuY7njSiGo3C3KHBG5",
      "collapsed_sections": [],
      "include_colab_link": true,
      "name": "How to use machine Learning.ipynb",
      "provenance": []
    },
    "interpreter": {
      "hash": "54a3cdcad0365391ef2c7b8d714869c9f0609c17ee48ce6700f96f20031e7112"
    },
    "kernelspec": {
      "display_name": "Python 3.9.7 64-bit (windows store)",
      "name": "python3"
    },
    "language_info": {
      "codemirror_mode": {
        "name": "ipython",
        "version": 3
      },
      "file_extension": ".py",
      "mimetype": "text/x-python",
      "name": "python",
      "nbconvert_exporter": "python",
      "pygments_lexer": "ipython3",
      "version": "3.9.7"
    }
  },
  "nbformat": 4,
  "nbformat_minor": 0
}
